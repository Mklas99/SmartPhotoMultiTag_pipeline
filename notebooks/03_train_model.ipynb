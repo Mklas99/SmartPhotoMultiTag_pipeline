{
 "cells": [
  {
   "cell_type": "markdown",
   "id": "8a1ce84b",
   "metadata": {},
   "source": [
    "# Step 3 – Train Model\n",
    "\n",
    "This notebook is responsible for training the image classification model.\n",
    "It will load the processed data, define the model architecture, set up the training loop, and save the trained model and relevant artifacts."
   ]
  },
  {
   "cell_type": "code",
   "execution_count": 1,
   "id": "182d4491",
   "metadata": {},
   "outputs": [
    {
     "name": "stdout",
     "output_type": "stream",
     "text": [
      "Project root '/workspaces/photo_tag_pipeline' added to sys.path.\n"
     ]
    },
    {
     "name": "stderr",
     "output_type": "stream",
     "text": [
      "/usr/local/lib/python3.11/site-packages/tqdm/auto.py:21: TqdmWarning: IProgress not found. Please update jupyter and ipywidgets. See https://ipywidgets.readthedocs.io/en/stable/user_install.html\n",
      "  from .autonotebook import tqdm as notebook_tqdm\n"
     ]
    },
    {
     "data": {
      "text/plain": [
       "<module 'src.utils.plot' from '/workspaces/photo_tag_pipeline/src/utils/plot.py'>"
      ]
     },
     "execution_count": 1,
     "metadata": {},
     "output_type": "execute_result"
    }
   ],
   "source": [
    "import sys\n",
    "import os\n",
    "from pathlib import Path\n",
    "import importlib\n",
    "\n",
    "# Add the project root to the Python path\n",
    "# This allows importing modules from the 'src' directory\n",
    "current_path = Path(os.getcwd()).resolve()\n",
    "project_root = None\n",
    "# Iterate up from current_path to its parents\n",
    "for parent_dir in [current_path] + list(current_path.parents):\n",
    "    if (parent_dir / \".git\").is_dir() or (parent_dir / \"pyproject.toml\").is_file() or (parent_dir / \"src\").is_dir():\n",
    "        project_root = parent_dir\n",
    "        break\n",
    "\n",
    "if project_root is None:\n",
    "    # Fallback for structures where notebook is in 'notebooks' dir directly under project root\n",
    "    if current_path.name == \"notebooks\" and (current_path.parent / \"src\").is_dir():\n",
    "        project_root = current_path.parent\n",
    "    else:\n",
    "        # Default to current_path if specific markers or 'notebooks' structure isn't found\n",
    "        project_root = current_path\n",
    "        print(f\"Warning: Could not reliably find project root. Using CWD: {project_root}. Ensure 'src' is in python path.\")\n",
    "\n",
    "if project_root:\n",
    "    project_root_str = str(project_root)\n",
    "    if project_root_str not in sys.path:\n",
    "        sys.path.insert(0, project_root_str)\n",
    "        print(f\"Project root '{project_root_str}' added to sys.path.\")\n",
    "    else:\n",
    "        print(f\"Project root '{project_root_str}' is already in sys.path.\")\n",
    "else:\n",
    "    print(\"Error: Project root could not be determined. Imports from 'src' may fail.\")\n",
    "\n",
    "# Reload modules to ensure the latest changes are picked up\n",
    "# Useful if you're actively developing the src modules\n",
    "import src.config\n",
    "import src.data.loader\n",
    "import src.models.model\n",
    "import src.utils.seed\n",
    "import src.utils.plot\n",
    "\n",
    "importlib.reload(src.config)\n",
    "importlib.reload(src.data.loader)\n",
    "importlib.reload(src.models.model)\n",
    "importlib.reload(src.utils.seed)\n",
    "importlib.reload(src.utils.plot)"
   ]
  },
  {
   "cell_type": "code",
   "execution_count": 2,
   "id": "df36be0b",
   "metadata": {},
   "outputs": [
    {
     "name": "stderr",
     "output_type": "stream",
     "text": [
      "[INFO] Loading pretrained weights from Hugging Face hub (timm/resnet18.a1_in1k)\n"
     ]
    },
    {
     "name": "stdout",
     "output_type": "stream",
     "text": [
      "Using device: cpu\n",
      "TrainConfig: TrainConfig(epochs=5, seed=42, early_stop_patience=3, batch_size=32, num_workers=2)\n",
      "ModelConfig: ModelConfig(backbone='resnet18', pretrained=True, drop_rate=0.0, num_classes=None)\n",
      "OptimConfig: OptimConfig(optim='adamw', lr=0.0003, weight_decay=0.0001, momentum=0.9)\n",
      "Seed set to 42\n",
      "Loading data...\n",
      "Data loaded. Train batches: 1, Val batches: 1\n",
      "Building model...\n",
      "Number of classes loaded from metadata: 2\n"
     ]
    },
    {
     "name": "stderr",
     "output_type": "stream",
     "text": [
      "[INFO] [timm/resnet18.a1_in1k] Safe alternative available for 'pytorch_model.bin' (as 'model.safetensors'). Loading weights using safetensors.\n",
      "[INFO] Missing keys (fc.weight, fc.bias) discovered while loading pretrained weights. This is expected if model is being adapted.\n"
     ]
    },
    {
     "name": "stdout",
     "output_type": "stream",
     "text": [
      "Model, criterion, and optimizer created.\n",
      "Starting training for 5 epochs...\n"
     ]
    },
    {
     "name": "stderr",
     "output_type": "stream",
     "text": [
      "Epoch 1/5 [Training]:   0%|          | 0/1 [00:00<?, ?batch/s]/usr/local/lib/python3.11/site-packages/torch/utils/data/dataloader.py:665: UserWarning: 'pin_memory' argument is set as true but no accelerator is found, then device pinned memory won't be used.\n",
      "  warnings.warn(warn_msg)\n",
      "Epoch 1/5 [Training]: 100%|██████████| 1/1 [00:06<00:00,  6.17s/batch, loss=0.699]\n",
      "Epoch 1/5 [Validation]: 100%|██████████| 1/1 [00:01<00:00,  1.19s/batch, loss=0.692]\n"
     ]
    },
    {
     "name": "stdout",
     "output_type": "stream",
     "text": [
      "Epoch 1/5 - Train Loss: 0.6991, Val Loss: 0.6923\n",
      "New best model saved to /workspaces/photo_tag_pipeline/checkpoints/best_model_notebook.pth (Val Loss: 0.6923)\n"
     ]
    },
    {
     "name": "stderr",
     "output_type": "stream",
     "text": [
      "Epoch 2/5 [Training]: 100%|██████████| 1/1 [00:05<00:00,  5.09s/batch, loss=0.676]\n",
      "Epoch 2/5 [Validation]: 100%|██████████| 1/1 [00:01<00:00,  1.00s/batch, loss=0.693]\n"
     ]
    },
    {
     "name": "stdout",
     "output_type": "stream",
     "text": [
      "Epoch 2/5 - Train Loss: 0.6755, Val Loss: 0.6929\n"
     ]
    },
    {
     "name": "stderr",
     "output_type": "stream",
     "text": [
      "Epoch 3/5 [Training]: 100%|██████████| 1/1 [00:05<00:00,  5.66s/batch, loss=0.664]\n",
      "Epoch 3/5 [Validation]: 100%|██████████| 1/1 [00:01<00:00,  1.23s/batch, loss=0.701]\n"
     ]
    },
    {
     "name": "stdout",
     "output_type": "stream",
     "text": [
      "Epoch 3/5 - Train Loss: 0.6645, Val Loss: 0.7006\n"
     ]
    },
    {
     "name": "stderr",
     "output_type": "stream",
     "text": [
      "Epoch 4/5 [Training]: 100%|██████████| 1/1 [00:05<00:00,  5.37s/batch, loss=0.64]\n",
      "Epoch 4/5 [Validation]: 100%|██████████| 1/1 [00:01<00:00,  1.15s/batch, loss=0.712]\n"
     ]
    },
    {
     "name": "stdout",
     "output_type": "stream",
     "text": [
      "Epoch 4/5 - Train Loss: 0.6399, Val Loss: 0.7124\n"
     ]
    },
    {
     "name": "stderr",
     "output_type": "stream",
     "text": [
      "Epoch 5/5 [Training]: 100%|██████████| 1/1 [00:06<00:00,  6.52s/batch, loss=0.624]\n",
      "Epoch 5/5 [Validation]: 100%|██████████| 1/1 [00:01<00:00,  1.10s/batch, loss=0.719]\n"
     ]
    },
    {
     "name": "stdout",
     "output_type": "stream",
     "text": [
      "Epoch 5/5 - Train Loss: 0.6244, Val Loss: 0.7189\n",
      "Final model saved to /workspaces/photo_tag_pipeline/checkpoints/final_model_notebook.pth\n",
      "Loss curve saved to /workspaces/photo_tag_pipeline/results/loss_curve_notebook.png\n",
      "Training complete.\n"
     ]
    },
    {
     "data": {
      "image/png": "[encoded data removed]",
      "text/plain": [
       "<IPython.core.display.Image object>"
      ]
     },
     "metadata": {},
     "output_type": "display_data"
    }
   ],
   "source": [
    "# Import necessary libraries\n",
    "import torch\n",
    "import torch.nn as nn\n",
    "import torch.optim as optim\n",
    "from tqdm.auto import tqdm # For progress bars\n",
    "\n",
    "# Imports from our src directory\n",
    "from src.config import ModelConfig, OptimConfig, TrainConfig, CHECKPOINT_DIR, RESULTS_DIR\n",
    "from src.data.loader import load_data\n",
    "from src.models.model import build_model\n",
    "from src.utils.seed import set_seed\n",
    "from src.utils.plot import save_loss_plot\n",
    "\n",
    "DEVICE = torch.device(\"cuda\" if torch.cuda.is_available() else \"cpu\")\n",
    "print(f\"Using device: {DEVICE}\")\n",
    "\n",
    "# ---- Configurations ----\n",
    "mcfg = ModelConfig()\n",
    "ocfg = OptimConfig()\n",
    "tcfg = TrainConfig() # Uses default epochs, can be overridden\n",
    "\n",
    "# You can override config parameters here if needed for experimentation\n",
    "# For example:\n",
    "# tcfg.epochs = 5 \n",
    "# ocfg.lr = 0.0005\n",
    "\n",
    "print(f\"TrainConfig: {tcfg}\")\n",
    "print(f\"ModelConfig: {mcfg}\")\n",
    "print(f\"OptimConfig: {ocfg}\")\n",
    "\n",
    "# ---- Set Seed ----\n",
    "set_seed(tcfg.seed)\n",
    "print(f\"Seed set to {tcfg.seed}\")\n",
    "\n",
    "# ---- Data Loaders ----\n",
    "print(\"Loading data...\")\n",
    "# load_data uses paths from src.config (DATASET_ROOT)\n",
    "# and batch_size, num_workers from tcfg.\n",
    "train_loader, val_loader = load_data(batch_size=tcfg.batch_size, num_workers=tcfg.num_workers)\n",
    "print(f\"Data loaded. Train batches: {len(train_loader)}, Val batches: {len(val_loader)}\")\n",
    "\n",
    "# ---- Model, Loss, Optimizer ----\n",
    "print(\"Building model...\")\n",
    "# build_model uses mcfg (num_classes, pretrained)\n",
    "# It also needs to know the number of classes from the dataset if not fixed in ModelConfig\n",
    "# Assuming ModelConfig.num_classes is correctly set (e.g., via dataset_metadata.json or a fixed value)\n",
    "# If your dataset_metadata.json is up-to-date from 01_dataset_eda, ModelConfig should load num_classes from there.\n",
    "# If not, ensure mcfg.num_classes is correct.\n",
    "if mcfg.num_classes is None:\n",
    "    # Attempt to get num_classes from the dataset if not set in config\n",
    "    # This requires dataset_metadata.json to be present and correct\n",
    "    try:\n",
    "        import json\n",
    "        metadata_path = src.config.META_PATH\n",
    "        if metadata_path.exists():\n",
    "            with open(metadata_path, 'r') as f:\n",
    "                metadata = json.load(f)\n",
    "            mcfg.num_classes = metadata.get('num_classes')\n",
    "            print(f\"Number of classes loaded from metadata: {mcfg.num_classes}\")\n",
    "        else:\n",
    "            raise FileNotFoundError(\"Metadata file not found, num_classes not set.\")\n",
    "        if mcfg.num_classes is None:\n",
    "             raise ValueError(\"num_classes is None even after trying to load from metadata.\")\n",
    "    except Exception as e:\n",
    "        print(f\"Error loading num_classes from metadata: {e}. Please ensure ModelConfig.num_classes is set or metadata is correct.\")\n",
    "        # Fallback or raise error\n",
    "        # mcfg.num_classes = len(src.config.DEFAULT_CLASSES) # Example fallback\n",
    "        # print(f\"Falling back to num_classes: {mcfg.num_classes}\")\n",
    "        raise e\n",
    "\n",
    "\n",
    "model = build_model(mcfg).to(DEVICE)\n",
    "criterion = nn.BCEWithLogitsLoss() # Binary Cross-Entropy for multi-label\n",
    "optimizer = optim.AdamW(model.parameters(), lr=ocfg.lr, weight_decay=ocfg.weight_decay)\n",
    "print(\"Model, criterion, and optimizer created.\")\n",
    "\n",
    "# ---- Training Loop ----\n",
    "best_val_loss = float('inf')\n",
    "train_losses, val_losses = [], []\n",
    "\n",
    "print(f\"Starting training for {tcfg.epochs} epochs...\")\n",
    "for epoch in range(tcfg.epochs):\n",
    "    model.train()\n",
    "    running_loss = 0.0\n",
    "    progress_bar = tqdm(train_loader, desc=f\"Epoch {epoch+1}/{tcfg.epochs} [Training]\", unit=\"batch\")\n",
    "    for imgs, labels in progress_bar:\n",
    "        imgs, labels = imgs.to(DEVICE), labels.to(DEVICE)\n",
    "        \n",
    "        optimizer.zero_grad()\n",
    "        outputs = model(imgs)\n",
    "        loss = criterion(outputs, labels)\n",
    "        loss.backward()\n",
    "        optimizer.step()\n",
    "        \n",
    "        running_loss += loss.item()\n",
    "        progress_bar.set_postfix(loss=loss.item())\n",
    "\n",
    "    train_loss = running_loss / len(train_loader)\n",
    "    train_losses.append(train_loss)\n",
    "    \n",
    "    # ---- Validation ----\n",
    "    model.eval()\n",
    "    val_running_loss = 0.0\n",
    "    with torch.no_grad():\n",
    "        progress_bar_val = tqdm(val_loader, desc=f\"Epoch {epoch+1}/{tcfg.epochs} [Validation]\", unit=\"batch\")\n",
    "        for imgs, labels in progress_bar_val:\n",
    "            imgs, labels = imgs.to(DEVICE), labels.to(DEVICE)\n",
    "            outputs = model(imgs)\n",
    "            loss = criterion(outputs, labels)\n",
    "            val_running_loss += loss.item()\n",
    "            progress_bar_val.set_postfix(loss=loss.item())\n",
    "            \n",
    "    val_loss = val_running_loss / len(val_loader)\n",
    "    val_losses.append(val_loss)\n",
    "    \n",
    "    print(f\"Epoch {epoch+1}/{tcfg.epochs} - Train Loss: {train_loss:.4f}, Val Loss: {val_loss:.4f}\")\n",
    "    \n",
    "    # ---- Checkpoint ----\n",
    "    if val_loss < best_val_loss:\n",
    "        best_val_loss = val_loss\n",
    "        best_model_path = CHECKPOINT_DIR / \"best_model_notebook.pth\"\n",
    "        torch.save(model.state_dict(), best_model_path)\n",
    "        print(f\"New best model saved to {best_model_path} (Val Loss: {best_val_loss:.4f})\")\n",
    "\n",
    "# ---- Save Final Model ----\n",
    "final_model_path = CHECKPOINT_DIR / \"final_model_notebook.pth\"\n",
    "torch.save(model.state_dict(), final_model_path)\n",
    "print(f\"Final model saved to {final_model_path}\")\n",
    "\n",
    "# ---- Plot and Save Loss Curve ----\n",
    "loss_plot_path = RESULTS_DIR / \"loss_curve_notebook.png\"\n",
    "# Ensure results directory exists (though config should handle it)\n",
    "RESULTS_DIR.mkdir(parents=True, exist_ok=True) \n",
    "save_loss_plot(train_losses, val_losses, str(loss_plot_path))\n",
    "print(f\"Loss curve saved to {loss_plot_path}\")\n",
    "\n",
    "print(\"Training complete.\")\n",
    "# Display the plot in the notebook\n",
    "from IPython.display import Image\n",
    "if loss_plot_path.exists():\n",
    "    display(Image(filename=str(loss_plot_path)))\n",
    "else:\n",
    "    print(f\"Could not find loss plot at {loss_plot_path} to display.\")\n"
   ]
  },
  {
   "cell_type": "markdown",
   "id": "b2b133aa",
   "metadata": {},
   "source": [
    "After training, the model will be saved to the `checkpoints/` directory (e.g., `best_model_notebook.pth`, `final_model_notebook.pth`), and the loss curve plot will be saved in the `results/` directory (e.g., `loss_curve_notebook.png`)."
   ]
  },
  {
   "cell_type": "code",
   "execution_count": null,
   "id": "6024e8dc",
   "metadata": {},
   "outputs": [],
   "source": [
    "# Export notebook to HTML\n",
    "\n",
    "# Add this tag to the cell metadata to exclude it from exports\n",
    "# Add the following to the cell metadata: {\"tags\": [\"remove\"]}\n",
    "\n",
    "import nbformat\n",
    "from nbconvert import HTMLExporter\n",
    "import os\n",
    "\n",
    "# Get the current notebook name\n",
    "notebook_path = \"03_train_model.ipynb\"\n",
    "html_path = notebook_path.replace(\".ipynb\", \".html\")\n",
    "\n",
    "# Load the notebook\n",
    "with open(notebook_path, 'r', encoding='utf-8') as f:\n",
    "    notebook = nbformat.read(f, as_version=4)\n",
    "\n",
    "# Create HTMLExporter\n",
    "html_exporter = HTMLExporter()\n",
    "html_exporter.exclude_tag_names = ['remove']  # This will exclude cells with 'remove' tag\n",
    "\n",
    "# Convert to HTML\n",
    "(body, resources) = html_exporter.from_notebook_node(notebook)\n",
    "\n",
    "# Write to HTML file\n",
    "with open(html_path, 'w', encoding='utf-8') as f:\n",
    "    f.write(body)\n",
    "\n",
    "print(f\"Notebook exported to {html_path}\")"
   ]
  }
 ],
 "metadata": {
  "kernelspec": {
   "display_name": "Python 3",
   "language": "python",
   "name": "python3"
  },
  "language_info": {
   "codemirror_mode": {
    "name": "ipython",
    "version": 3
   },
   "file_extension": ".py",
   "mimetype": "text/x-python",
   "name": "python",
   "nbconvert_exporter": "python",
   "pygments_lexer": "ipython3",
   "version": "3.11.13"
  }
 },
 "nbformat": 4,
 "nbformat_minor": 5
}
