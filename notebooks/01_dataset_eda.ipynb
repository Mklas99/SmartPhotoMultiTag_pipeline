{
 "cells": [
  {
   "cell_type": "code",
   "execution_count": 11,
   "id": "d4a702f7",
   "metadata": {
    "tags": [
     "remove"
    ]
   },
   "outputs": [
    {
     "name": "stdout",
     "output_type": "stream",
     "text": [
      "Project root '/workspaces/MultilabelPhotoTag_Pipeline_MKlas' is already in sys.path.\n"
     ]
    }
   ],
   "source": [
    "import sys\n",
    "import os\n",
    "from pathlib import Path\n",
    "\n",
    "# Add the project root to the Python path\n",
    "current_path = Path(os.getcwd()).resolve()\n",
    "project_root = None\n",
    "# Iterate up from current_path to its parents\n",
    "for parent_dir in [current_path] + list(current_path.parents):\n",
    "    if (parent_dir / \".git\").is_dir() or (parent_dir / \"pyproject.toml\").is_file() or (parent_dir / \"src\").is_dir():\n",
    "        project_root = parent_dir\n",
    "        break\n",
    "\n",
    "if project_root is None:\n",
    "    # Fallback if no marker is found - assumes notebook is in a subdir of project root\n",
    "    print(\"Warning: Could not reliably find project root using markers (.git, pyproject.toml, src/).\")\n",
    "    if current_path.name == \"notebooks\":\n",
    "        project_root = current_path.parent\n",
    "    else:\n",
    "        project_root = current_path\n",
    "        print(f\"Warning: Using current working directory as potential project root: {project_root}\")\n",
    "\n",
    "if project_root:\n",
    "    project_root_str = str(project_root)\n",
    "    if project_root_str not in sys.path:\n",
    "        sys.path.insert(0, project_root_str)\n",
    "        print(f\"Project root '{project_root_str}' added to sys.path.\")\n",
    "    else:\n",
    "        print(f\"Project root '{project_root_str}' is already in sys.path.\")\n",
    "else:\n",
    "    print(\"Error: Project root could not be determined. Imports from 'src' may fail.\")"
   ]
  },
  {
   "cell_type": "markdown",
   "id": "f6e309ff",
   "metadata": {},
   "source": [
    "# Photo‑Tag Dataset EDA\n",
    "Exploratory analysis for multi‑label COCO subset."
   ]
  },
  {
   "cell_type": "code",
   "execution_count": 12,
   "id": "4756f650",
   "metadata": {},
   "outputs": [
    {
     "name": "stderr",
     "output_type": "stream",
     "text": [
      "[INFO] Downloading splits ('train', 'validation', 'test') from coco-2017 (max 10000 samples each)…\n"
     ]
    },
    {
     "name": "stdout",
     "output_type": "stream",
     "text": [
      "Downloading split 'train' to '/root/fiftyone/coco-2017/train' if necessary\n"
     ]
    },
    {
     "name": "stderr",
     "output_type": "stream",
     "text": [
      "[INFO] Downloading split 'train' to '/root/fiftyone/coco-2017/train' if necessary\n"
     ]
    },
    {
     "name": "stdout",
     "output_type": "stream",
     "text": [
      "Found annotations at '/root/fiftyone/coco-2017/raw/instances_train2017.json'\n"
     ]
    },
    {
     "name": "stderr",
     "output_type": "stream",
     "text": [
      "[INFO] Found annotations at '/root/fiftyone/coco-2017/raw/instances_train2017.json'\n"
     ]
    },
    {
     "name": "stdout",
     "output_type": "stream",
     "text": [
      "Sufficient images already downloaded\n"
     ]
    },
    {
     "name": "stderr",
     "output_type": "stream",
     "text": [
      "[INFO] Sufficient images already downloaded\n"
     ]
    },
    {
     "name": "stdout",
     "output_type": "stream",
     "text": [
      "Existing download of split 'train' is sufficient\n"
     ]
    },
    {
     "name": "stderr",
     "output_type": "stream",
     "text": [
      "[INFO] Existing download of split 'train' is sufficient\n"
     ]
    },
    {
     "name": "stdout",
     "output_type": "stream",
     "text": [
      "Downloading split 'validation' to '/root/fiftyone/coco-2017/validation' if necessary\n"
     ]
    },
    {
     "name": "stderr",
     "output_type": "stream",
     "text": [
      "[INFO] Downloading split 'validation' to '/root/fiftyone/coco-2017/validation' if necessary\n"
     ]
    },
    {
     "name": "stdout",
     "output_type": "stream",
     "text": [
      "Found annotations at '/root/fiftyone/coco-2017/raw/instances_val2017.json'\n"
     ]
    },
    {
     "name": "stderr",
     "output_type": "stream",
     "text": [
      "[INFO] Found annotations at '/root/fiftyone/coco-2017/raw/instances_val2017.json'\n"
     ]
    },
    {
     "name": "stdout",
     "output_type": "stream",
     "text": [
      "Only found 3104 (<10000) samples matching your requirements\n"
     ]
    },
    {
     "name": "stderr",
     "output_type": "stream",
     "text": [
      "[WARNING] Only found 3104 (<10000) samples matching your requirements\n"
     ]
    },
    {
     "name": "stdout",
     "output_type": "stream",
     "text": [
      "Sufficient images already downloaded\n"
     ]
    },
    {
     "name": "stderr",
     "output_type": "stream",
     "text": [
      "[INFO] Sufficient images already downloaded\n"
     ]
    },
    {
     "name": "stdout",
     "output_type": "stream",
     "text": [
      "Existing download of split 'validation' is sufficient\n"
     ]
    },
    {
     "name": "stderr",
     "output_type": "stream",
     "text": [
      "[INFO] Existing download of split 'validation' is sufficient\n"
     ]
    },
    {
     "name": "stdout",
     "output_type": "stream",
     "text": [
      "Downloading split 'test' to '/root/fiftyone/coco-2017/test' if necessary\n"
     ]
    },
    {
     "name": "stderr",
     "output_type": "stream",
     "text": [
      "[INFO] Downloading split 'test' to '/root/fiftyone/coco-2017/test' if necessary\n"
     ]
    },
    {
     "name": "stdout",
     "output_type": "stream",
     "text": [
      "Test split is unlabeled; ignoring classes requirement\n"
     ]
    },
    {
     "name": "stderr",
     "output_type": "stream",
     "text": [
      "[WARNING] Test split is unlabeled; ignoring classes requirement\n"
     ]
    },
    {
     "name": "stdout",
     "output_type": "stream",
     "text": [
      "Found test info at '/root/fiftyone/coco-2017/raw/image_info_test2017.json'\n"
     ]
    },
    {
     "name": "stderr",
     "output_type": "stream",
     "text": [
      "[INFO] Found test info at '/root/fiftyone/coco-2017/raw/image_info_test2017.json'\n"
     ]
    },
    {
     "name": "stdout",
     "output_type": "stream",
     "text": [
      "Sufficient images already downloaded\n"
     ]
    },
    {
     "name": "stderr",
     "output_type": "stream",
     "text": [
      "[INFO] Sufficient images already downloaded\n"
     ]
    },
    {
     "name": "stdout",
     "output_type": "stream",
     "text": [
      "Existing download of split 'test' is sufficient\n"
     ]
    },
    {
     "name": "stderr",
     "output_type": "stream",
     "text": [
      "[INFO] Existing download of split 'test' is sufficient\n"
     ]
    },
    {
     "name": "stdout",
     "output_type": "stream",
     "text": [
      "Loading 'coco-2017' split 'train'\n"
     ]
    },
    {
     "name": "stderr",
     "output_type": "stream",
     "text": [
      "[INFO] Loading 'coco-2017' split 'train'\n"
     ]
    },
    {
     "name": "stdout",
     "output_type": "stream",
     "text": [
      " 100% |█████████████| 10000/10000 [43.1s elapsed, 0s remaining, 216.4 samples/s]      \n"
     ]
    },
    {
     "name": "stderr",
     "output_type": "stream",
     "text": [
      "[INFO]  100% |█████████████| 10000/10000 [43.1s elapsed, 0s remaining, 216.4 samples/s]      \n"
     ]
    },
    {
     "name": "stdout",
     "output_type": "stream",
     "text": [
      "Loading 'coco-2017' split 'validation'\n"
     ]
    },
    {
     "name": "stderr",
     "output_type": "stream",
     "text": [
      "[INFO] Loading 'coco-2017' split 'validation'\n"
     ]
    },
    {
     "name": "stdout",
     "output_type": "stream",
     "text": [
      " 100% |███████████████| 3104/3104 [12.8s elapsed, 0s remaining, 256.9 samples/s]      \n"
     ]
    },
    {
     "name": "stderr",
     "output_type": "stream",
     "text": [
      "[INFO]  100% |███████████████| 3104/3104 [12.8s elapsed, 0s remaining, 256.9 samples/s]      \n"
     ]
    },
    {
     "name": "stdout",
     "output_type": "stream",
     "text": [
      "Loading 'coco-2017' split 'test'\n"
     ]
    },
    {
     "name": "stderr",
     "output_type": "stream",
     "text": [
      "[INFO] Loading 'coco-2017' split 'test'\n"
     ]
    },
    {
     "name": "stdout",
     "output_type": "stream",
     "text": [
      "Dataset is unlabeled; ignoring classes requirement\n"
     ]
    },
    {
     "name": "stderr",
     "output_type": "stream",
     "text": [
      "[WARNING] Dataset is unlabeled; ignoring classes requirement\n"
     ]
    },
    {
     "name": "stdout",
     "output_type": "stream",
     "text": [
      " 100% |█████████████| 10000/10000 [2.5s elapsed, 0s remaining, 4.2K samples/s]      \n"
     ]
    },
    {
     "name": "stderr",
     "output_type": "stream",
     "text": [
      "[INFO]  100% |█████████████| 10000/10000 [2.5s elapsed, 0s remaining, 4.2K samples/s]      \n"
     ]
    },
    {
     "name": "stdout",
     "output_type": "stream",
     "text": [
      "Dataset 'coco-2017-train-validation-test-10000' created\n"
     ]
    },
    {
     "name": "stderr",
     "output_type": "stream",
     "text": [
      "[INFO] Dataset 'coco-2017-train-validation-test-10000' created\n",
      "[INFO] Loaded 23104 samples in total\n",
      "[INFO] Filtering dataset to 6 target classes\n",
      "[INFO] View retains 13104 samples after label filtering\n",
      "[INFO] Creating train/val/test tags (seed=42)…\n",
      "[INFO] Clearing existing tag 'train' from 10000 samples.\n",
      "[INFO] Clearing existing tag 'test' from 10000 samples.\n",
      "[INFO] Stratifying across 6 classes: ['bicycle', 'car', 'cell phone', 'dog', 'laptop', 'person']\n",
      "[INFO] Distributing 10000 remaining samples randomly...\n",
      "[INFO] Final unique split ID counts - Train: 13859, Val: 5774, Test: 3471\n",
      "[INFO] Exporting train split → /workspaces/MultilabelPhotoTag_Pipeline_MKlas/src/data/coco/train (COCO) …\n"
     ]
    },
    {
     "name": "stdout",
     "output_type": "stream",
     "text": [
      " 100% |█████████████| 13859/13859 [3.7m elapsed, 0s remaining, 70.6 samples/s]      \n"
     ]
    },
    {
     "name": "stderr",
     "output_type": "stream",
     "text": [
      "[INFO]  100% |█████████████| 13859/13859 [3.7m elapsed, 0s remaining, 70.6 samples/s]      \n",
      "[INFO] Exporting val split → /workspaces/MultilabelPhotoTag_Pipeline_MKlas/src/data/coco/val (COCO) …\n"
     ]
    },
    {
     "name": "stdout",
     "output_type": "stream",
     "text": [
      " 100% |███████████████| 5774/5774 [1.6m elapsed, 0s remaining, 67.4 samples/s]      \n"
     ]
    },
    {
     "name": "stderr",
     "output_type": "stream",
     "text": [
      "[INFO]  100% |███████████████| 5774/5774 [1.6m elapsed, 0s remaining, 67.4 samples/s]      \n",
      "[INFO] Exporting test split → /workspaces/MultilabelPhotoTag_Pipeline_MKlas/src/data/coco/test (COCO) …\n"
     ]
    },
    {
     "name": "stdout",
     "output_type": "stream",
     "text": [
      " 100% |███████████████| 3471/3471 [54.7s elapsed, 0s remaining, 73.9 samples/s]      \n"
     ]
    },
    {
     "name": "stderr",
     "output_type": "stream",
     "text": [
      "[INFO]  100% |███████████████| 3471/3471 [54.7s elapsed, 0s remaining, 73.9 samples/s]      \n",
      "[INFO] Metadata saved → /workspaces/MultilabelPhotoTag_Pipeline_MKlas/src/data/coco/dataset_metadata.json\n"
     ]
    },
    {
     "name": "stdout",
     "output_type": "stream",
     "text": [
      "Dataset split sizes:\n",
      "- train: 13859 samples\n",
      "- val: 5774 samples\n",
      "- test: 3471 samples\n",
      "\n",
      "Total samples in the dataset: 23104\n",
      "Dataset name in FiftyOne: coco-2017-train-validation-test-10000\n"
     ]
    }
   ],
   "source": [
    "import fiftyone as fo\n",
    "import importlib\n",
    "from src import config\n",
    "import src.config\n",
    "import src.data.loader\n",
    "\n",
    "importlib.reload(src.config)\n",
    "importlib.reload(src.data.loader)\n",
    "from src.data.loader import prepare_dataset\n",
    "from src.config import DEFAULT_CLASSES\n",
    "\n",
    "# Prepare dataset will download, filter, split, export, and write metadata\n",
    "views = prepare_dataset(classes=DEFAULT_CLASSES, max_samples=config.IMAGE_CNT, seed=42)\n",
    "\n",
    "# Print the number of samples in each split\n",
    "print(\"Dataset split sizes:\")\n",
    "for split_name, view in views.items():\n",
    "    print(f\"- {split_name}: {len(view)} samples\")\n",
    "\n",
    "# The views dictionary contains 'train', 'val', 'test' views.\n",
    "# The underlying dataset can be accessed from any view, e.g., views['train']._dataset\n",
    "# This dataset object contains all samples and the tags for splits.\n",
    "dataset = views[\"train\"]._dataset\n",
    "print(f\"\\nTotal samples in the dataset: {len(dataset)}\")\n",
    "print(f\"Dataset name in FiftyOne: {dataset.name}\")"
   ]
  },
  {
   "cell_type": "code",
   "execution_count": 13,
   "id": "e3eb62d5",
   "metadata": {},
   "outputs": [
    {
     "data": {
      "text/html": [
       "\n",
       "        <iframe\n",
       "            width=\"100%\"\n",
       "            height=\"800\"\n",
       "            src=\"http://0.0.0.0:5151/?notebook=True&subscription=63eee913-082e-4b8d-b21c-2217e3b874b0\"\n",
       "            frameborder=\"0\"\n",
       "            allowfullscreen\n",
       "            \n",
       "        ></iframe>\n",
       "        "
      ],
      "text/plain": [
       "<IPython.lib.display.IFrame at 0x7f52c2668a90>"
      ]
     },
     "metadata": {},
     "output_type": "display_data"
    }
   ],
   "source": [
    "# Launch the FiftyOne App to explore the entire dataset.\n",
    "session = fo.launch_app(dataset)\n",
    "# pass a specific view:\n",
    "# session = fo.launch_app(views['train'])"
   ]
  },
  {
   "cell_type": "code",
   "execution_count": 14,
   "id": "579fd047",
   "metadata": {
    "tags": [
     "remove"
    ]
   },
   "outputs": [
    {
     "name": "stdout",
     "output_type": "stream",
     "text": [
      "Successfully loaded /workspaces/MultilabelPhotoTag_Pipeline_MKlas/src/data/coco/train/labels.json\n",
      "\n",
      "COCO Dataset Analysis (from /workspaces/MultilabelPhotoTag_Pipeline_MKlas/src/data/coco/train/labels.json)\n",
      "===========================\n",
      "Dataset info: 2017/09/01\n",
      "Number of categories: 80\n",
      "Categories: ['airplane', 'apple', 'backpack', 'banana', 'baseball bat', 'baseball glove', 'bear', 'bed', 'bench', 'bicycle', 'bird', 'boat', 'book', 'bottle', 'bowl', 'broccoli', 'bus', 'cake', 'car', 'carrot', 'cat', 'cell phone', 'chair', 'clock', 'couch', 'cow', 'cup', 'dining table', 'dog', 'donut', 'elephant', 'fire hydrant', 'fork', 'frisbee', 'giraffe', 'hair drier', 'handbag', 'horse', 'hot dog', 'keyboard', 'kite', 'knife', 'laptop', 'microwave', 'motorcycle', 'mouse', 'orange', 'oven', 'parking meter', 'person', 'pizza', 'potted plant', 'refrigerator', 'remote', 'sandwich', 'scissors', 'sheep', 'sink', 'skateboard', 'skis', 'snowboard', 'spoon', 'sports ball', 'stop sign', 'suitcase', 'surfboard', 'teddy bear', 'tennis racket', 'tie', 'toaster', 'toilet', 'toothbrush', 'traffic light', 'train', 'truck', 'tv', 'umbrella', 'vase', 'wine glass', 'zebra']\n",
      "\n",
      "Valid Images Analysis\n",
      "===========================\n",
      "Number of valid images with filename: 13859\n",
      "Sample of valid images:\n",
      "ID: 1, Filename: 000000220529.jpg, Size: 500x392\n",
      "ID: 2, Filename: 000000101820.jpg, Size: 457x640\n",
      "ID: 3, Filename: 000000211190.jpg, Size: 500x484\n",
      "ID: 4, Filename: 000000247114.jpg, Size: 427x640\n",
      "ID: 5, Filename: 000000345161.jpg, Size: 500x333\n",
      "\n",
      "Image Dimensions Statistics:\n",
      "Height - Min: 75, Max: 640, Avg: 482.2\n",
      "Width  - Min: 75, Max: 640, Avg: 577.0\n",
      "\n",
      "Annotations Analysis\n",
      "===========================\n",
      "Number of annotations: 72871\n",
      "\n",
      "Supercategory distribution:\n",
      "person: 28602 annotations (39.3%)\n",
      "vehicle: 9061 annotations (12.4%)\n",
      "furniture: 5896 annotations (8.1%)\n",
      "kitchen: 5682 annotations (7.8%)\n",
      "sports: 5264 annotations (7.2%)\n",
      "accessory: 4506 annotations (6.2%)\n",
      "food: 2903 annotations (4.0%)\n",
      "electronic: 2711 annotations (3.7%)\n",
      "indoor: 2685 annotations (3.7%)\n",
      "animal: 2662 annotations (3.7%)\n",
      "outdoor: 2414 annotations (3.3%)\n",
      "appliance: 485 annotations (0.7%)\n"
     ]
    },
    {
     "data": {
      "image/png": "[encoded data removed]",
      "text/plain": [
       "<Figure size 1000x600 with 1 Axes>"
      ]
     },
     "metadata": {},
     "output_type": "display_data"
    }
   ],
   "source": [
    "import json\n",
    "from collections import Counter\n",
    "import matplotlib.pyplot as plt\n",
    "import importlib\n",
    "import src.config\n",
    "\n",
    "importlib.reload(src.config)\n",
    "\n",
    "# Define the path to the training annotations file\n",
    "train_ann_file_path = src.config.DATASET_ROOT / \"train\" / \"labels.json\"\n",
    "\n",
    "# Load COCO data from the training split's exported labels.json\n",
    "coco_data = {}  # Initialize to empty dict\n",
    "\n",
    "with open(train_ann_file_path, \"r\") as f:\n",
    "    coco_data = json.load(f)\n",
    "print(f\"Successfully loaded {train_ann_file_path}\")\n",
    "\n",
    "# Basic dataset information\n",
    "print(f\"\\nCOCO Dataset Analysis (from {train_ann_file_path})\")\n",
    "print(\"===========================\")\n",
    "# Check if coco_data was loaded successfully before trying to access its keys\n",
    "if coco_data:\n",
    "    print(f\"Dataset info: {coco_data.get('info', {}).get('date_created', 'Not specified')}\")\n",
    "    print(f\"Number of categories: {len(coco_data.get('categories', []))}\")\n",
    "    print(f\"Categories: {[cat['name'] for cat in coco_data.get('categories', [])]}\")\n",
    "\n",
    "    # Get valid images (with id and file_name)\n",
    "    valid_images = []\n",
    "    for img in coco_data.get(\"images\", []):\n",
    "        if \"file_name\" in img and \"id\" in img:\n",
    "            valid_images.append((img[\"id\"], img[\"file_name\"], img.get(\"height\"), img.get(\"width\")))\n",
    "\n",
    "    print(\"\\nValid Images Analysis\")\n",
    "    print(\"===========================\")\n",
    "    print(f\"Number of valid images with filename: {len(valid_images)}\")\n",
    "    if valid_images:\n",
    "        print(\"Sample of valid images:\")\n",
    "        for i, (img_id, filename, height, width) in enumerate(valid_images[:5]):\n",
    "            print(f\"ID: {img_id}, Filename: {filename}, Size: {width}x{height}\")\n",
    "\n",
    "    # Analyze image dimensions if available\n",
    "    heights = [h for _, _, h, _ in valid_images if h is not None and isinstance(h, (int, float))]\n",
    "    widths = [w for _, _, _, w in valid_images if w is not None and isinstance(w, (int, float))]\n",
    "\n",
    "    if heights and widths:\n",
    "        print(\"\\nImage Dimensions Statistics:\")\n",
    "        print(f\"Height - Min: {min(heights)}, Max: {max(heights)}, Avg: {sum(heights)/len(heights):.1f}\")\n",
    "        print(f\"Width  - Min: {min(widths)}, Max: {max(widths)}, Avg: {sum(widths)/len(widths):.1f}\")\n",
    "\n",
    "    # Count supercategories in annotations\n",
    "    print(\"\\nAnnotations Analysis\")\n",
    "    print(\"===========================\")\n",
    "    if \"annotations\" in coco_data:\n",
    "        annotations = coco_data[\"annotations\"]\n",
    "        print(f\"Number of annotations: {len(annotations)}\")\n",
    "\n",
    "        # Count by supercategory\n",
    "        supercategories = [ann.get(\"supercategory\") for ann in annotations if \"supercategory\" in ann]\n",
    "        if supercategories:  # Check if list is not empty\n",
    "            supercategory_counts = Counter(supercategories)\n",
    "\n",
    "            print(\"\\nSupercategory distribution:\")\n",
    "            for cat, count in supercategory_counts.most_common():\n",
    "                print(f\"{cat}: {count} annotations ({count/len(supercategories)*100:.1f}%)\")\n",
    "\n",
    "            if supercategory_counts:\n",
    "                # Plot supercategory distribution\n",
    "                plt.figure(figsize=(10, 6))\n",
    "                cats, counts = zip(*supercategory_counts.most_common())\n",
    "                plt.bar(cats, counts)\n",
    "                plt.xlabel(\"Supercategories\")\n",
    "                # Only plot horizontal line if valid_images is not empty\n",
    "                if valid_images:\n",
    "                    plt.axhline(\n",
    "                        y=len(valid_images),\n",
    "                        color=\"r\",\n",
    "                        linestyle=\"--\",\n",
    "                        label=f\"Number of images: {len(valid_images)}\",\n",
    "                    )\n",
    "                    plt.legend()\n",
    "                plt.ylabel(\"Number of Annotations\")\n",
    "                plt.title(\"Distribution of Supercategories in Annotations\")\n",
    "                plt.xticks(rotation=45, ha=\"right\")\n",
    "                plt.tight_layout()\n",
    "                plt.show()\n",
    "        else:\n",
    "            print(\"No supercategory information found in annotations.\")\n",
    "else:\n",
    "    print(\"Skipping COCO data analysis as coco_data could not be loaded.\")"
   ]
  },
  {
   "cell_type": "code",
   "execution_count": 15,
   "id": "1afa0ed3",
   "metadata": {
    "tags": [
     "remove"
    ]
   },
   "outputs": [
    {
     "name": "stdout",
     "output_type": "stream",
     "text": [
      "[NbConvertApp] Converting notebook 01_dataset_eda.ipynb to html\n",
      "[NbConvertApp] Writing 284602 bytes to ../assets/01_dataset_eda_export.html\n"
     ]
    },
    {
     "data": {
      "text/html": [
       "<div style=padding:10px;'><h3>Export complete!</h3><p>Notebook <b>01_dataset_eda.ipynb</b> has been exported to HTML.</p></div>"
      ],
      "text/plain": [
       "<IPython.core.display.HTML object>"
      ]
     },
     "metadata": {},
     "output_type": "display_data"
    }
   ],
   "source": [
    "import os\n",
    "from IPython.display import HTML\n",
    "from IPython import get_ipython\n",
    "\n",
    "# Get current notebook name\n",
    "try:\n",
    "    # Try to get the notebook name using IPython's special variable\n",
    "    notebook_path = get_ipython().kernel.shell.user_ns[\"__vsc_ipynb_file__\"] if \"__vsc_ipynb_file__\" in get_ipython().kernel.shell.user_ns else None\n",
    "    if not notebook_path:\n",
    "        notebook_path = get_ipython().kernel.shell.user_ns.get(\"__notebook_source__\", \"\")\n",
    "    notebook_name = os.path.basename(notebook_path) if notebook_path else \"\"\n",
    "except Exception:\n",
    "    notebook_name = \"\"\n",
    "\n",
    "# Check if the notebook name was successfully determined\n",
    "if notebook_name == \"\":\n",
    "    # Fallback method if automatic detection fails\n",
    "    notebook_name = input(\"Enter notebook filename (with .ipynb extension): \")\n",
    "\n",
    "# Use nbconvert to export the notebook without input cells tagged with \"remove\"\n",
    "# Ensure the assets directory exists\n",
    "assets_dir = \"../assets\"\n",
    "os.makedirs(assets_dir, exist_ok=True)\n",
    "output_html = os.path.join(assets_dir, os.path.splitext(os.path.basename(notebook_name))[0] + \"_export.html\")\n",
    "!jupyter nbconvert --to html --TagRemovePreprocessor.remove_cell_tags='{\"remove\"}' \"{notebook_name}\" --output \"{output_html}\"\n",
    "\n",
    "# Display a success message\n",
    "display(\n",
    "    HTML(f\"<div style=padding:10px;'>\" f\"<h3>Export complete!</h3>\" f\"<p>Notebook <b>{notebook_name}</b> has been exported to HTML.</p>\" f\"</div>\")\n",
    ")"
   ]
  }
 ],
 "metadata": {
  "kernelspec": {
   "display_name": "Python 3",
   "language": "python",
   "name": "python3"
  },
  "language_info": {
   "codemirror_mode": {
    "name": "ipython",
    "version": 3
   },
   "file_extension": ".py",
   "mimetype": "text/x-python",
   "name": "python",
   "nbconvert_exporter": "python",
   "pygments_lexer": "ipython3",
   "version": "3.11.13"
  }
 },
 "nbformat": 4,
 "nbformat_minor": 5
}
