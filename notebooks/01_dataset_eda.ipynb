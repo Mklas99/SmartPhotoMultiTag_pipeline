{
 "cells": [
  {
   "cell_type": "code",
   "execution_count": null,
   "id": "d4a702f7",
   "metadata": {
    "tags": [
     "remove"
    ]
   },
   "outputs": [
    {
     "name": "stdout",
     "output_type": "stream",
     "text": [
      "Project root '/workspaces/photo_tag_pipeline' added to sys.path.\n"
     ]
    }
   ],
   "source": [
    "import sys\n",
    "import os\n",
    "from pathlib import Path\n",
    "\n",
    "# Add the project root to the Python path\n",
    "current_path = Path(os.getcwd()).resolve()\n",
    "project_root = None\n",
    "# Iterate up from current_path to its parents\n",
    "for parent_dir in [current_path] + list(current_path.parents):\n",
    "    if (parent_dir / \".git\").is_dir() or (parent_dir / \"pyproject.toml\").is_file() or (parent_dir / \"src\").is_dir():\n",
    "        project_root = parent_dir\n",
    "        break\n",
    "\n",
    "if project_root is None:\n",
    "    # Fallback if no marker is found - assumes notebook is in a subdir of project root\n",
    "    print(\"Warning: Could not reliably find project root using markers (.git, pyproject.toml, src/).\")\n",
    "    if current_path.name == \"notebooks\":\n",
    "        project_root = current_path.parent\n",
    "    else:\n",
    "        project_root = current_path \n",
    "        print(f\"Warning: Using current working directory as potential project root: {project_root}\")\n",
    "\n",
    "if project_root:\n",
    "    project_root_str = str(project_root)\n",
    "    if project_root_str not in sys.path:\n",
    "        sys.path.insert(0, project_root_str)\n",
    "        print(f\"Project root '{project_root_str}' added to sys.path.\")\n",
    "    else:\n",
    "        print(f\"Project root '{project_root_str}' is already in sys.path.\")\n",
    "else:\n",
    "    print(\"Error: Project root could not be determined. Imports from 'src' may fail.\")"
   ]
  },
  {
   "cell_type": "markdown",
   "id": "f6e309ff",
   "metadata": {},
   "source": [
    "# Photo‑Tag Dataset EDA\n",
    "Exploratory analysis for multi‑label COCO subset."
   ]
  },
  {
   "cell_type": "code",
   "execution_count": null,
   "id": "4756f650",
   "metadata": {},
   "outputs": [
    {
     "name": "stderr",
     "output_type": "stream",
     "text": [
      "/usr/local/lib/python3.11/site-packages/tqdm/auto.py:21: TqdmWarning: IProgress not found. Please update jupyter and ipywidgets. See https://ipywidgets.readthedocs.io/en/stable/user_install.html\n",
      "  from .autonotebook import tqdm as notebook_tqdm\n",
      "[INFO] Downloading splits ('train', 'validation', 'test') from coco-2017 (max 20 samples each)…\n"
     ]
    },
    {
     "name": "stdout",
     "output_type": "stream",
     "text": [
      "Downloading split 'train' to '/root/fiftyone/coco-2017/train' if necessary\n"
     ]
    },
    {
     "name": "stderr",
     "output_type": "stream",
     "text": [
      "[INFO] Downloading split 'train' to '/root/fiftyone/coco-2017/train' if necessary\n"
     ]
    },
    {
     "name": "stdout",
     "output_type": "stream",
     "text": [
      "Downloading annotations to '/root/fiftyone/coco-2017/tmp-download/annotations_trainval2017.zip'\n"
     ]
    },
    {
     "name": "stderr",
     "output_type": "stream",
     "text": [
      "[INFO] Downloading annotations to '/root/fiftyone/coco-2017/tmp-download/annotations_trainval2017.zip'\n"
     ]
    },
    {
     "name": "stdout",
     "output_type": "stream",
     "text": [
      " 100% |██████|    1.9Gb/1.9Gb [25.3s elapsed, 0s remaining, 66.2Mb/s]      \n"
     ]
    },
    {
     "name": "stderr",
     "output_type": "stream",
     "text": [
      "[INFO]  100% |██████|    1.9Gb/1.9Gb [25.3s elapsed, 0s remaining, 66.2Mb/s]      \n"
     ]
    },
    {
     "name": "stdout",
     "output_type": "stream",
     "text": [
      "Extracting annotations to '/root/fiftyone/coco-2017/raw/instances_train2017.json'\n"
     ]
    },
    {
     "name": "stderr",
     "output_type": "stream",
     "text": [
      "[INFO] Extracting annotations to '/root/fiftyone/coco-2017/raw/instances_train2017.json'\n"
     ]
    },
    {
     "name": "stdout",
     "output_type": "stream",
     "text": [
      "Downloading 20 images\n"
     ]
    },
    {
     "name": "stderr",
     "output_type": "stream",
     "text": [
      "[INFO] Downloading 20 images\n"
     ]
    },
    {
     "name": "stdout",
     "output_type": "stream",
     "text": [
      " 100% |████████████████████| 20/20 [2.7s elapsed, 0s remaining, 7.3 images/s]       \n"
     ]
    },
    {
     "name": "stderr",
     "output_type": "stream",
     "text": [
      "[INFO]  100% |████████████████████| 20/20 [2.7s elapsed, 0s remaining, 7.3 images/s]       \n"
     ]
    },
    {
     "name": "stdout",
     "output_type": "stream",
     "text": [
      "Writing annotations for 20 downloaded samples to '/root/fiftyone/coco-2017/train/labels.json'\n"
     ]
    },
    {
     "name": "stderr",
     "output_type": "stream",
     "text": [
      "[INFO] Writing annotations for 20 downloaded samples to '/root/fiftyone/coco-2017/train/labels.json'\n"
     ]
    },
    {
     "name": "stdout",
     "output_type": "stream",
     "text": [
      "Downloading split 'validation' to '/root/fiftyone/coco-2017/validation' if necessary\n"
     ]
    },
    {
     "name": "stderr",
     "output_type": "stream",
     "text": [
      "[INFO] Downloading split 'validation' to '/root/fiftyone/coco-2017/validation' if necessary\n"
     ]
    },
    {
     "name": "stdout",
     "output_type": "stream",
     "text": [
      "Found annotations at '/root/fiftyone/coco-2017/raw/instances_val2017.json'\n"
     ]
    },
    {
     "name": "stderr",
     "output_type": "stream",
     "text": [
      "[INFO] Found annotations at '/root/fiftyone/coco-2017/raw/instances_val2017.json'\n"
     ]
    },
    {
     "name": "stdout",
     "output_type": "stream",
     "text": [
      "Downloading 20 images\n"
     ]
    },
    {
     "name": "stderr",
     "output_type": "stream",
     "text": [
      "[INFO] Downloading 20 images\n"
     ]
    },
    {
     "name": "stdout",
     "output_type": "stream",
     "text": [
      " 100% |████████████████████| 20/20 [2.9s elapsed, 0s remaining, 9.8 images/s]       \n"
     ]
    },
    {
     "name": "stderr",
     "output_type": "stream",
     "text": [
      "[INFO]  100% |████████████████████| 20/20 [2.9s elapsed, 0s remaining, 9.8 images/s]       \n"
     ]
    },
    {
     "name": "stdout",
     "output_type": "stream",
     "text": [
      "Writing annotations for 20 downloaded samples to '/root/fiftyone/coco-2017/validation/labels.json'\n"
     ]
    },
    {
     "name": "stderr",
     "output_type": "stream",
     "text": [
      "[INFO] Writing annotations for 20 downloaded samples to '/root/fiftyone/coco-2017/validation/labels.json'\n"
     ]
    },
    {
     "name": "stdout",
     "output_type": "stream",
     "text": [
      "Downloading split 'test' to '/root/fiftyone/coco-2017/test' if necessary\n"
     ]
    },
    {
     "name": "stderr",
     "output_type": "stream",
     "text": [
      "[INFO] Downloading split 'test' to '/root/fiftyone/coco-2017/test' if necessary\n"
     ]
    },
    {
     "name": "stdout",
     "output_type": "stream",
     "text": [
      "Test split is unlabeled; ignoring classes requirement\n"
     ]
    },
    {
     "name": "stderr",
     "output_type": "stream",
     "text": [
      "[WARNING] Test split is unlabeled; ignoring classes requirement\n"
     ]
    },
    {
     "name": "stdout",
     "output_type": "stream",
     "text": [
      "Downloading test info to '/root/fiftyone/coco-2017/tmp-download/image_info_test2017.zip'\n"
     ]
    },
    {
     "name": "stderr",
     "output_type": "stream",
     "text": [
      "[INFO] Downloading test info to '/root/fiftyone/coco-2017/tmp-download/image_info_test2017.zip'\n"
     ]
    },
    {
     "name": "stdout",
     "output_type": "stream",
     "text": [
      " 100% |██████|    8.7Mb/8.7Mb [908.7ms elapsed, 0s remaining, 9.6Mb/s]      \n"
     ]
    },
    {
     "name": "stderr",
     "output_type": "stream",
     "text": [
      "[INFO]  100% |██████|    8.7Mb/8.7Mb [908.7ms elapsed, 0s remaining, 9.6Mb/s]      \n"
     ]
    },
    {
     "name": "stdout",
     "output_type": "stream",
     "text": [
      "Extracting test info to '/root/fiftyone/coco-2017/raw/image_info_test2017.json'\n"
     ]
    },
    {
     "name": "stderr",
     "output_type": "stream",
     "text": [
      "[INFO] Extracting test info to '/root/fiftyone/coco-2017/raw/image_info_test2017.json'\n"
     ]
    },
    {
     "name": "stdout",
     "output_type": "stream",
     "text": [
      "Downloading 20 images\n"
     ]
    },
    {
     "name": "stderr",
     "output_type": "stream",
     "text": [
      "[INFO] Downloading 20 images\n"
     ]
    },
    {
     "name": "stdout",
     "output_type": "stream",
     "text": [
      " 100% |████████████████████| 20/20 [2.7s elapsed, 0s remaining, 7.4 images/s]       \n"
     ]
    },
    {
     "name": "stderr",
     "output_type": "stream",
     "text": [
      "[INFO]  100% |████████████████████| 20/20 [2.7s elapsed, 0s remaining, 7.4 images/s]       \n"
     ]
    },
    {
     "name": "stdout",
     "output_type": "stream",
     "text": [
      "Writing annotations for 20 downloaded samples to '/root/fiftyone/coco-2017/test/labels.json'\n"
     ]
    },
    {
     "name": "stderr",
     "output_type": "stream",
     "text": [
      "[INFO] Writing annotations for 20 downloaded samples to '/root/fiftyone/coco-2017/test/labels.json'\n"
     ]
    },
    {
     "name": "stdout",
     "output_type": "stream",
     "text": [
      "Dataset info written to '/root/fiftyone/coco-2017/info.json'\n"
     ]
    },
    {
     "name": "stderr",
     "output_type": "stream",
     "text": [
      "[INFO] Dataset info written to '/root/fiftyone/coco-2017/info.json'\n"
     ]
    },
    {
     "name": "stdout",
     "output_type": "stream",
     "text": [
      "You are running the oldest supported major version of MongoDB. Please refer to https://deprecation.voxel51.com for deprecation notices. You can suppress this exception by setting your `database_validation` config parameter to `False`. See https://docs.voxel51.com/user_guide/config.html#configuring-a-mongodb-connection for more information\n"
     ]
    },
    {
     "name": "stderr",
     "output_type": "stream",
     "text": [
      "[WARNING] You are running the oldest supported major version of MongoDB. Please refer to https://deprecation.voxel51.com for deprecation notices. You can suppress this exception by setting your `database_validation` config parameter to `False`. See https://docs.voxel51.com/user_guide/config.html#configuring-a-mongodb-connection for more information\n"
     ]
    },
    {
     "name": "stdout",
     "output_type": "stream",
     "text": [
      "Loading 'coco-2017' split 'train'\n"
     ]
    },
    {
     "name": "stderr",
     "output_type": "stream",
     "text": [
      "[INFO] Loading 'coco-2017' split 'train'\n"
     ]
    },
    {
     "name": "stdout",
     "output_type": "stream",
     "text": [
      " 100% |███████████████████| 20/20 [123.2ms elapsed, 0s remaining, 162.4 samples/s]    \n"
     ]
    },
    {
     "name": "stderr",
     "output_type": "stream",
     "text": [
      "[INFO]  100% |███████████████████| 20/20 [123.2ms elapsed, 0s remaining, 162.4 samples/s]    \n"
     ]
    },
    {
     "name": "stdout",
     "output_type": "stream",
     "text": [
      "Loading 'coco-2017' split 'validation'\n"
     ]
    },
    {
     "name": "stderr",
     "output_type": "stream",
     "text": [
      "[INFO] Loading 'coco-2017' split 'validation'\n"
     ]
    },
    {
     "name": "stdout",
     "output_type": "stream",
     "text": [
      " 100% |███████████████████| 20/20 [124.4ms elapsed, 0s remaining, 162.7 samples/s]    \n"
     ]
    },
    {
     "name": "stderr",
     "output_type": "stream",
     "text": [
      "[INFO]  100% |███████████████████| 20/20 [124.4ms elapsed, 0s remaining, 162.7 samples/s]    \n"
     ]
    },
    {
     "name": "stdout",
     "output_type": "stream",
     "text": [
      "Loading 'coco-2017' split 'test'\n"
     ]
    },
    {
     "name": "stderr",
     "output_type": "stream",
     "text": [
      "[INFO] Loading 'coco-2017' split 'test'\n"
     ]
    },
    {
     "name": "stdout",
     "output_type": "stream",
     "text": [
      "Dataset is unlabeled; ignoring classes requirement\n"
     ]
    },
    {
     "name": "stderr",
     "output_type": "stream",
     "text": [
      "[WARNING] Dataset is unlabeled; ignoring classes requirement\n"
     ]
    },
    {
     "name": "stdout",
     "output_type": "stream",
     "text": [
      " 100% |███████████████████| 20/20 [16.2ms elapsed, 0s remaining, 1.2K samples/s]     \n"
     ]
    },
    {
     "name": "stderr",
     "output_type": "stream",
     "text": [
      "[INFO]  100% |███████████████████| 20/20 [16.2ms elapsed, 0s remaining, 1.2K samples/s]     \n"
     ]
    },
    {
     "name": "stdout",
     "output_type": "stream",
     "text": [
      "Dataset 'coco-2017-train-validation-test-20' created\n"
     ]
    },
    {
     "name": "stderr",
     "output_type": "stream",
     "text": [
      "[INFO] Dataset 'coco-2017-train-validation-test-20' created\n",
      "[INFO] Loaded 60 samples in total\n",
      "[INFO] Filtering dataset to 2 target classes\n",
      "[INFO] View retains 40 samples after label filtering\n",
      "[INFO] Creating train/val/test tags (seed=42)…\n",
      "[INFO] Exporting train split → /workspaces/photo_tag_pipeline/.data/coco_export/train (COCO) …\n"
     ]
    },
    {
     "name": "stdout",
     "output_type": "stream",
     "text": [
      " 100% |███████████████████| 51/51 [1.7s elapsed, 0s remaining, 27.2 samples/s]         \n"
     ]
    },
    {
     "name": "stderr",
     "output_type": "stream",
     "text": [
      "[INFO]  100% |███████████████████| 51/51 [1.7s elapsed, 0s remaining, 27.2 samples/s]         \n",
      "[INFO] Exporting val split → /workspaces/photo_tag_pipeline/.data/coco_export/val (COCO) …\n"
     ]
    },
    {
     "name": "stdout",
     "output_type": "stream",
     "text": [
      " 100% |█████████████████████| 6/6 [215.3ms elapsed, 0s remaining, 27.9 samples/s]      \n"
     ]
    },
    {
     "name": "stderr",
     "output_type": "stream",
     "text": [
      "[INFO]  100% |█████████████████████| 6/6 [215.3ms elapsed, 0s remaining, 27.9 samples/s]      \n",
      "[INFO] Exporting test split → /workspaces/photo_tag_pipeline/.data/coco_export/test (COCO) …\n"
     ]
    },
    {
     "name": "stdout",
     "output_type": "stream",
     "text": [
      " 100% |███████████████████| 27/27 [871.4ms elapsed, 0s remaining, 31.0 samples/s]      \n"
     ]
    },
    {
     "name": "stderr",
     "output_type": "stream",
     "text": [
      "[INFO]  100% |███████████████████| 27/27 [871.4ms elapsed, 0s remaining, 31.0 samples/s]      \n",
      "[INFO] Metadata saved → /workspaces/photo_tag_pipeline/src/data/coco/dataset_metadata.json\n"
     ]
    },
    {
     "name": "stdout",
     "output_type": "stream",
     "text": [
      "Dataset split sizes:\n",
      "- train: 51 samples\n",
      "- val: 6 samples\n",
      "- test: 27 samples\n",
      "\n",
      "Total samples in the dataset: 60\n",
      "Dataset name in FiftyOne: coco-2017-train-validation-test-20\n"
     ]
    }
   ],
   "source": [
    "import fiftyone as fo\n",
    "import importlib\n",
    "import src.config\n",
    "import src.data.loader\n",
    "importlib.reload(src.config)\n",
    "importlib.reload(src.data.loader)\n",
    "from src.data.loader import prepare_dataset \n",
    "from src.config import DEFAULT_CLASSES \n",
    "\n",
    "# Prepare dataset will download, filter, split, export, and write metadata\n",
    "views = prepare_dataset(classes=DEFAULT_CLASSES, max_samples=20, seed=42)\n",
    "\n",
    "# Print the number of samples in each split\n",
    "print(\"Dataset split sizes:\")\n",
    "for split_name, view in views.items():\n",
    "    print(f\"- {split_name}: {len(view)} samples\")\n",
    "\n",
    "# The views dictionary contains 'train', 'val', 'test' views.\n",
    "# The underlying dataset can be accessed from any view, e.g., views['train']._dataset\n",
    "# This dataset object contains all samples and the tags for splits.\n",
    "dataset = views['train']._dataset\n",
    "print(f\"\\nTotal samples in the dataset: {len(dataset)}\")\n",
    "print(f\"Dataset name in FiftyOne: {dataset.name}\")\n"
   ]
  },
  {
   "cell_type": "code",
   "execution_count": null,
   "id": "e3eb62d5",
   "metadata": {},
   "outputs": [
    {
     "data": {
      "text/html": [
       "\n",
       "        <iframe\n",
       "            width=\"100%\"\n",
       "            height=\"800\"\n",
       "            src=\"http://0.0.0.0:5151/?notebook=True&subscription=64ff3a1a-dbf5-487f-9fa6-48ea76393dfc\"\n",
       "            frameborder=\"0\"\n",
       "            allowfullscreen\n",
       "            \n",
       "        ></iframe>\n",
       "        "
      ],
      "text/plain": [
       "<IPython.lib.display.IFrame at 0x7fd6caa41fd0>"
      ]
     },
     "metadata": {},
     "output_type": "display_data"
    },
    {
     "name": "stdout",
     "output_type": "stream",
     "text": [
      "\n",
      "Welcome to\n",
      "\n",
      "███████╗██╗███████╗████████╗██╗   ██╗ ██████╗ ███╗   ██╗███████╗\n",
      "██╔════╝██║██╔════╝╚══██╔══╝╚██╗ ██╔╝██╔═══██╗████╗  ██║██╔════╝\n",
      "█████╗  ██║█████╗     ██║    ╚████╔╝ ██║   ██║██╔██╗ ██║█████╗\n",
      "██╔══╝  ██║██╔══╝     ██║     ╚██╔╝  ██║   ██║██║╚██╗██║██╔══╝\n",
      "██║     ██║██║        ██║      ██║   ╚██████╔╝██║ ╚████║███████╗\n",
      "╚═╝     ╚═╝╚═╝        ╚═╝      ╚═╝    ╚═════╝ ╚═╝  ╚═══╝╚══════╝ v1.5.2\n",
      "\n",
      "If you're finding FiftyOne helpful, here's how you can get involved:\n",
      "\n",
      "|\n",
      "|  ⭐⭐⭐ Give the project a star on GitHub ⭐⭐⭐\n",
      "|  https://github.com/voxel51/fiftyone\n",
      "|\n",
      "|  🚀🚀🚀 Join the FiftyOne Discord community 🚀🚀🚀\n",
      "|  https://community.voxel51.com/\n",
      "|\n",
      "\n"
     ]
    },
    {
     "name": "stderr",
     "output_type": "stream",
     "text": [
      "[INFO] \n",
      "Welcome to\n",
      "\n",
      "███████╗██╗███████╗████████╗██╗   ██╗ ██████╗ ███╗   ██╗███████╗\n",
      "██╔════╝██║██╔════╝╚══██╔══╝╚██╗ ██╔╝██╔═══██╗████╗  ██║██╔════╝\n",
      "█████╗  ██║█████╗     ██║    ╚████╔╝ ██║   ██║██╔██╗ ██║█████╗\n",
      "██╔══╝  ██║██╔══╝     ██║     ╚██╔╝  ██║   ██║██║╚██╗██║██╔══╝\n",
      "██║     ██║██║        ██║      ██║   ╚██████╔╝██║ ╚████║███████╗\n",
      "╚═╝     ╚═╝╚═╝        ╚═╝      ╚═╝    ╚═════╝ ╚═╝  ╚═══╝╚══════╝ v1.5.2\n",
      "\n",
      "If you're finding FiftyOne helpful, here's how you can get involved:\n",
      "\n",
      "|\n",
      "|  ⭐⭐⭐ Give the project a star on GitHub ⭐⭐⭐\n",
      "|  https://github.com/voxel51/fiftyone\n",
      "|\n",
      "|  🚀🚀🚀 Join the FiftyOne Discord community 🚀🚀🚀\n",
      "|  https://community.voxel51.com/\n",
      "|\n",
      "\n"
     ]
    }
   ],
   "source": [
    "# Launch the FiftyOne App to explore the entire dataset.\n",
    "session = fo.launch_app(dataset)\n",
    "# pass a specific view:\n",
    "# session = fo.launch_app(views['train'])"
   ]
  },
  {
   "cell_type": "code",
   "execution_count": null,
   "id": "579fd047",
   "metadata": {
    "tags": [
     "remove"
    ]
   },
   "outputs": [
    {
     "name": "stdout",
     "output_type": "stream",
     "text": [
      "Successfully loaded /workspaces/photo_tag_pipeline/.data/coco_export/train/labels.json\n",
      "\n",
      "COCO Dataset Analysis (from /workspaces/photo_tag_pipeline/.data/coco_export/train/labels.json)\n",
      "===========================\n",
      "Dataset info: 2017/09/01\n",
      "Number of categories: 37\n",
      "Categories: ['airplane', 'backpack', 'bed', 'bench', 'bicycle', 'boat', 'book', 'bottle', 'bowl', 'car', 'cat', 'chair', 'couch', 'cow', 'cup', 'dining table', 'dog', 'fork', 'frisbee', 'handbag', 'knife', 'laptop', 'person', 'potted plant', 'remote', 'sheep', 'sink', 'skateboard', 'skis', 'spoon', 'suitcase', 'surfboard', 'teddy bear', 'toothbrush', 'truck', 'tv', 'umbrella']\n",
      "\n",
      "Valid Images Analysis\n",
      "===========================\n",
      "Number of valid images with filename: 51\n",
      "Sample of valid images:\n",
      "ID: 1, Filename: 000000571342.jpg, Size: 375x500\n",
      "ID: 2, Filename: 000000307073.jpg, Size: 640x428\n",
      "ID: 3, Filename: 000000488014.jpg, Size: 640x480\n",
      "ID: 4, Filename: 000000299154.jpg, Size: 640x458\n",
      "ID: 5, Filename: 000000430501.jpg, Size: 640x427\n",
      "\n",
      "Image Dimensions Statistics:\n",
      "Height - Min: 331, Max: 640, Avg: 475.1\n",
      "Width  - Min: 333, Max: 640, Avg: 552.0\n",
      "\n",
      "Annotations Analysis\n",
      "===========================\n",
      "Number of annotations: 294\n",
      "\n",
      "Supercategory distribution:\n",
      "person: 89 annotations (30.3%)\n",
      "animal: 46 annotations (15.6%)\n",
      "vehicle: 31 annotations (10.5%)\n",
      "furniture: 31 annotations (10.5%)\n",
      "kitchen: 26 annotations (8.8%)\n",
      "indoor: 22 annotations (7.5%)\n",
      "accessory: 20 annotations (6.8%)\n",
      "sports: 12 annotations (4.1%)\n",
      "electronic: 9 annotations (3.1%)\n",
      "outdoor: 7 annotations (2.4%)\n",
      "appliance: 1 annotations (0.3%)\n"
     ]
    },
    {
     "data": {
      "image/png": "[encoded data removed]",
      "text/plain": [
       "<Figure size 1000x600 with 1 Axes>"
      ]
     },
     "metadata": {},
     "output_type": "display_data"
    }
   ],
   "source": [
    "import json\n",
    "from collections import Counter\n",
    "import matplotlib.pyplot as plt\n",
    "import importlib \n",
    "import src.config \n",
    "importlib.reload(src.config) \n",
    "\n",
    "# Define the path to the training annotations file\n",
    "train_ann_file_path = src.config.DATASET_ROOT / \"train\" / \"labels.json\"\n",
    "\n",
    "# Load COCO data from the training split's exported labels.json\n",
    "coco_data = {} # Initialize to empty dict\n",
    "\n",
    "with open(train_ann_file_path, 'r') as f:\n",
    "    coco_data = json.load(f)\n",
    "print(f\"Successfully loaded {train_ann_file_path}\")\n",
    "\n",
    "# Basic dataset information\n",
    "print(f\"\\nCOCO Dataset Analysis (from {train_ann_file_path})\")\n",
    "print(f\"===========================\")\n",
    "# Check if coco_data was loaded successfully before trying to access its keys\n",
    "if coco_data:\n",
    "    print(f\"Dataset info: {coco_data.get('info', {}).get('date_created', 'Not specified')}\")\n",
    "    print(f\"Number of categories: {len(coco_data.get('categories', []))}\")\n",
    "    print(f\"Categories: {[cat['name'] for cat in coco_data.get('categories', [])]}\")\n",
    "\n",
    "    # Get valid images (with id and file_name)\n",
    "    valid_images = []\n",
    "    for img in coco_data.get('images', []):\n",
    "        if 'file_name' in img and 'id' in img:\n",
    "            valid_images.append((img['id'], img['file_name'], img.get('height'), img.get('width')))\n",
    "\n",
    "    print(f\"\\nValid Images Analysis\")\n",
    "    print(f\"===========================\")\n",
    "    print(f\"Number of valid images with filename: {len(valid_images)}\")\n",
    "    if valid_images:\n",
    "        print(\"Sample of valid images:\")\n",
    "        for i, (img_id, filename, height, width) in enumerate(valid_images[:5]):\n",
    "            print(f\"ID: {img_id}, Filename: {filename}, Size: {width}x{height}\")\n",
    "\n",
    "    # Analyze image dimensions if available\n",
    "    heights = [h for _, _, h, _ in valid_images if h is not None and isinstance(h, (int, float))]\n",
    "    widths = [w for _, _, _, w in valid_images if w is not None and isinstance(w, (int, float))]\n",
    "\n",
    "    if heights and widths:\n",
    "        print(f\"\\nImage Dimensions Statistics:\")\n",
    "        print(f\"Height - Min: {min(heights)}, Max: {max(heights)}, Avg: {sum(heights)/len(heights):.1f}\")\n",
    "        print(f\"Width  - Min: {min(widths)}, Max: {max(widths)}, Avg: {sum(widths)/len(widths):.1f}\")\n",
    "\n",
    "    # Count supercategories in annotations\n",
    "    print(f\"\\nAnnotations Analysis\")\n",
    "    print(f\"===========================\")\n",
    "    if 'annotations' in coco_data:\n",
    "        annotations = coco_data['annotations']\n",
    "        print(f\"Number of annotations: {len(annotations)}\")\n",
    "        \n",
    "        # Count by supercategory\n",
    "        supercategories = [ann.get('supercategory') for ann in annotations if 'supercategory' in ann]\n",
    "        if supercategories: # Check if list is not empty\n",
    "            supercategory_counts = Counter(supercategories)\n",
    "            \n",
    "            print(\"\\nSupercategory distribution:\")\n",
    "            for cat, count in supercategory_counts.most_common():\n",
    "                print(f\"{cat}: {count} annotations ({count/len(supercategories)*100:.1f}%)\")\n",
    "            \n",
    "            if supercategory_counts:\n",
    "                # Plot supercategory distribution\n",
    "                plt.figure(figsize=(10, 6))\n",
    "                cats, counts = zip(*supercategory_counts.most_common())\n",
    "                plt.bar(cats, counts)\n",
    "                plt.xlabel('Supercategories')\n",
    "                # Only plot horizontal line if valid_images is not empty\n",
    "                if valid_images:\n",
    "                    plt.axhline(y=len(valid_images), color='r', linestyle='--', label=f'Number of images: {len(valid_images)}')\n",
    "                    plt.legend()\n",
    "                plt.ylabel('Number of Annotations')\n",
    "                plt.title('Distribution of Supercategories in Annotations')\n",
    "                plt.xticks(rotation=45, ha=\"right\")\n",
    "                plt.tight_layout()\n",
    "                plt.show()\n",
    "        else:\n",
    "            print(\"No supercategory information found in annotations.\")\n",
    "else:\n",
    "    print(\"Skipping COCO data analysis as coco_data could not be loaded.\")\n"
   ]
  },
  {
   "cell_type": "code",
   "execution_count": null,
   "id": "1afa0ed3",
   "metadata": {
    "tags": [
     "remove"
    ]
   },
   "outputs": [
    {
     "ename": "FileNotFoundError",
     "evalue": "[Errno 2] No such file or directory: 'MLG-LB02_LabDT-EM.ipynb'",
     "output_type": "error",
     "traceback": [
      "\u001b[31m---------------------------------------------------------------------------\u001b[39m",
      "\u001b[31mFileNotFoundError\u001b[39m                         Traceback (most recent call last)",
      "\u001b[36mCell\u001b[39m\u001b[36m \u001b[39m\u001b[32mIn[1]\u001b[39m\u001b[32m, line 15\u001b[39m\n\u001b[32m     12\u001b[39m html_path = notebook_path.replace(\u001b[33m\"\u001b[39m\u001b[33m.ipynb\u001b[39m\u001b[33m\"\u001b[39m, \u001b[33m\"\u001b[39m\u001b[33m.html\u001b[39m\u001b[33m\"\u001b[39m)\n\u001b[32m     14\u001b[39m \u001b[38;5;66;03m# Load the notebook\u001b[39;00m\n\u001b[32m---> \u001b[39m\u001b[32m15\u001b[39m \u001b[38;5;28;01mwith\u001b[39;00m \u001b[38;5;28;43mopen\u001b[39;49m\u001b[43m(\u001b[49m\u001b[43mnotebook_path\u001b[49m\u001b[43m,\u001b[49m\u001b[43m \u001b[49m\u001b[33;43m'\u001b[39;49m\u001b[33;43mr\u001b[39;49m\u001b[33;43m'\u001b[39;49m\u001b[43m,\u001b[49m\u001b[43m \u001b[49m\u001b[43mencoding\u001b[49m\u001b[43m=\u001b[49m\u001b[33;43m'\u001b[39;49m\u001b[33;43mutf-8\u001b[39;49m\u001b[33;43m'\u001b[39;49m\u001b[43m)\u001b[49m \u001b[38;5;28;01mas\u001b[39;00m f:\n\u001b[32m     16\u001b[39m     notebook = nbformat.read(f, as_version=\u001b[32m4\u001b[39m)\n\u001b[32m     18\u001b[39m \u001b[38;5;66;03m# Create HTMLExporter\u001b[39;00m\n",
      "\u001b[36mFile \u001b[39m\u001b[32m/usr/local/lib/python3.11/site-packages/IPython/core/interactiveshell.py:327\u001b[39m, in \u001b[36m_modified_open\u001b[39m\u001b[34m(file, *args, **kwargs)\u001b[39m\n\u001b[32m    320\u001b[39m \u001b[38;5;28;01mif\u001b[39;00m file \u001b[38;5;129;01min\u001b[39;00m {\u001b[32m0\u001b[39m, \u001b[32m1\u001b[39m, \u001b[32m2\u001b[39m}:\n\u001b[32m    321\u001b[39m     \u001b[38;5;28;01mraise\u001b[39;00m \u001b[38;5;167;01mValueError\u001b[39;00m(\n\u001b[32m    322\u001b[39m         \u001b[33mf\u001b[39m\u001b[33m\"\u001b[39m\u001b[33mIPython won\u001b[39m\u001b[33m'\u001b[39m\u001b[33mt let you open fd=\u001b[39m\u001b[38;5;132;01m{\u001b[39;00mfile\u001b[38;5;132;01m}\u001b[39;00m\u001b[33m by default \u001b[39m\u001b[33m\"\u001b[39m\n\u001b[32m    323\u001b[39m         \u001b[33m\"\u001b[39m\u001b[33mas it is likely to crash IPython. If you know what you are doing, \u001b[39m\u001b[33m\"\u001b[39m\n\u001b[32m    324\u001b[39m         \u001b[33m\"\u001b[39m\u001b[33myou can use builtins\u001b[39m\u001b[33m'\u001b[39m\u001b[33m open.\u001b[39m\u001b[33m\"\u001b[39m\n\u001b[32m    325\u001b[39m     )\n\u001b[32m--> \u001b[39m\u001b[32m327\u001b[39m \u001b[38;5;28;01mreturn\u001b[39;00m \u001b[43mio_open\u001b[49m\u001b[43m(\u001b[49m\u001b[43mfile\u001b[49m\u001b[43m,\u001b[49m\u001b[43m \u001b[49m\u001b[43m*\u001b[49m\u001b[43margs\u001b[49m\u001b[43m,\u001b[49m\u001b[43m \u001b[49m\u001b[43m*\u001b[49m\u001b[43m*\u001b[49m\u001b[43mkwargs\u001b[49m\u001b[43m)\u001b[49m\n",
      "\u001b[31mFileNotFoundError\u001b[39m: [Errno 2] No such file or directory: 'MLG-LB02_LabDT-EM.ipynb'"
     ]
    }
   ],
   "source": [
    "# Export notebook to HTML\n",
    "\n",
    "# Add this tag to the cell metadata to exclude it from exports\n",
    "# Add the following to the cell metadata: {\"tags\": [\"remove_cell\"]}\n",
    "\n",
    "import nbformat\n",
    "from nbconvert import HTMLExporter\n",
    "import os\n",
    "\n",
    "# Get the current notebook name\n",
    "notebook_path = \"01_dataset_eda.ipynb\"\n",
    "html_path = notebook_path.replace(\".ipynb\", \".html\")\n",
    "\n",
    "# Load the notebook\n",
    "with open(notebook_path, 'r', encoding='utf-8') as f:\n",
    "    notebook = nbformat.read(f, as_version=4)\n",
    "\n",
    "# Create HTMLExporter\n",
    "html_exporter = HTMLExporter()\n",
    "html_exporter.exclude_tag_names = ['remove']  # This will exclude cells with 'remove_cell' tag\n",
    "\n",
    "# Convert to HTML\n",
    "(body, resources) = html_exporter.from_notebook_node(notebook)\n",
    "\n",
    "# Write to HTML file\n",
    "with open(html_path, 'w', encoding='utf-8') as f:\n",
    "    f.write(body)\n",
    "\n",
    "print(f\"Notebook exported to {html_path}\")"
   ]
  }
 ],
 "metadata": {
  "kernelspec": {
   "display_name": "Python 3",
   "language": "python",
   "name": "python3"
  },
  "language_info": {
   "codemirror_mode": {
    "name": "ipython",
    "version": 3
   },
   "file_extension": ".py",
   "mimetype": "text/x-python",
   "name": "python",
   "nbconvert_exporter": "python",
   "pygments_lexer": "ipython3",
   "version": "3.11.13"
  }
 },
 "nbformat": 4,
 "nbformat_minor": 5
}
