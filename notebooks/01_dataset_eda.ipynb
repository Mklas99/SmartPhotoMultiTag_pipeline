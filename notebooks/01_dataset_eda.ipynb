{
 "cells": [
  {
   "cell_type": "code",
   "execution_count": 21,
   "id": "d4a702f7",
   "metadata": {
    "tags": [
     "remove"
    ]
   },
   "outputs": [
    {
     "name": "stdout",
     "output_type": "stream",
     "text": [
      "Project root '/workspaces/photo_tag_pipeline' is already in sys.path.\n"
     ]
    }
   ],
   "source": [
    "import sys\n",
    "import os\n",
    "from pathlib import Path\n",
    "\n",
    "# Add the project root to the Python path\n",
    "current_path = Path(os.getcwd()).resolve()\n",
    "project_root = None\n",
    "# Iterate up from current_path to its parents\n",
    "for parent_dir in [current_path] + list(current_path.parents):\n",
    "    if (\n",
    "        (parent_dir / \".git\").is_dir()\n",
    "        or (parent_dir / \"pyproject.toml\").is_file()\n",
    "        or (parent_dir / \"src\").is_dir()\n",
    "    ):\n",
    "        project_root = parent_dir\n",
    "        break\n",
    "\n",
    "if project_root is None:\n",
    "    # Fallback if no marker is found - assumes notebook is in a subdir of project root\n",
    "    print(\n",
    "        \"Warning: Could not reliably find project root using markers (.git, pyproject.toml, src/).\"\n",
    "    )\n",
    "    if current_path.name == \"notebooks\":\n",
    "        project_root = current_path.parent\n",
    "    else:\n",
    "        project_root = current_path\n",
    "        print(\n",
    "            f\"Warning: Using current working directory as potential project root: {project_root}\"\n",
    "        )\n",
    "\n",
    "if project_root:\n",
    "    project_root_str = str(project_root)\n",
    "    if project_root_str not in sys.path:\n",
    "        sys.path.insert(0, project_root_str)\n",
    "        print(f\"Project root '{project_root_str}' added to sys.path.\")\n",
    "    else:\n",
    "        print(f\"Project root '{project_root_str}' is already in sys.path.\")\n",
    "else:\n",
    "    print(\"Error: Project root could not be determined. Imports from 'src' may fail.\")"
   ]
  },
  {
   "cell_type": "markdown",
   "id": "f6e309ff",
   "metadata": {},
   "source": [
    "# Photo‑Tag Dataset EDA\n",
    "Exploratory analysis for multi‑label COCO subset."
   ]
  },
  {
   "cell_type": "code",
   "execution_count": 22,
   "id": "4756f650",
   "metadata": {},
   "outputs": [
    {
     "name": "stderr",
     "output_type": "stream",
     "text": [
      "[INFO] Downloading splits ('train', 'validation', 'test') from coco-2017 (max 20 samples each)…\n"
     ]
    },
    {
     "name": "stdout",
     "output_type": "stream",
     "text": [
      "Downloading split 'train' to '/root/fiftyone/coco-2017/train' if necessary\n"
     ]
    },
    {
     "name": "stderr",
     "output_type": "stream",
     "text": [
      "[INFO] Downloading split 'train' to '/root/fiftyone/coco-2017/train' if necessary\n"
     ]
    },
    {
     "name": "stdout",
     "output_type": "stream",
     "text": [
      "Found annotations at '/root/fiftyone/coco-2017/raw/instances_train2017.json'\n"
     ]
    },
    {
     "name": "stderr",
     "output_type": "stream",
     "text": [
      "[INFO] Found annotations at '/root/fiftyone/coco-2017/raw/instances_train2017.json'\n"
     ]
    },
    {
     "name": "stdout",
     "output_type": "stream",
     "text": [
      "Sufficient images already downloaded\n"
     ]
    },
    {
     "name": "stderr",
     "output_type": "stream",
     "text": [
      "[INFO] Sufficient images already downloaded\n"
     ]
    },
    {
     "name": "stdout",
     "output_type": "stream",
     "text": [
      "Existing download of split 'train' is sufficient\n"
     ]
    },
    {
     "name": "stderr",
     "output_type": "stream",
     "text": [
      "[INFO] Existing download of split 'train' is sufficient\n"
     ]
    },
    {
     "name": "stdout",
     "output_type": "stream",
     "text": [
      "Downloading split 'validation' to '/root/fiftyone/coco-2017/validation' if necessary\n"
     ]
    },
    {
     "name": "stderr",
     "output_type": "stream",
     "text": [
      "[INFO] Downloading split 'validation' to '/root/fiftyone/coco-2017/validation' if necessary\n"
     ]
    },
    {
     "name": "stdout",
     "output_type": "stream",
     "text": [
      "Found annotations at '/root/fiftyone/coco-2017/raw/instances_val2017.json'\n"
     ]
    },
    {
     "name": "stderr",
     "output_type": "stream",
     "text": [
      "[INFO] Found annotations at '/root/fiftyone/coco-2017/raw/instances_val2017.json'\n"
     ]
    },
    {
     "name": "stdout",
     "output_type": "stream",
     "text": [
      "Sufficient images already downloaded\n"
     ]
    },
    {
     "name": "stderr",
     "output_type": "stream",
     "text": [
      "[INFO] Sufficient images already downloaded\n"
     ]
    },
    {
     "name": "stdout",
     "output_type": "stream",
     "text": [
      "Existing download of split 'validation' is sufficient\n"
     ]
    },
    {
     "name": "stderr",
     "output_type": "stream",
     "text": [
      "[INFO] Existing download of split 'validation' is sufficient\n"
     ]
    },
    {
     "name": "stdout",
     "output_type": "stream",
     "text": [
      "Downloading split 'test' to '/root/fiftyone/coco-2017/test' if necessary\n"
     ]
    },
    {
     "name": "stderr",
     "output_type": "stream",
     "text": [
      "[INFO] Downloading split 'test' to '/root/fiftyone/coco-2017/test' if necessary\n"
     ]
    },
    {
     "name": "stdout",
     "output_type": "stream",
     "text": [
      "Test split is unlabeled; ignoring classes requirement\n"
     ]
    },
    {
     "name": "stderr",
     "output_type": "stream",
     "text": [
      "[WARNING] Test split is unlabeled; ignoring classes requirement\n"
     ]
    },
    {
     "name": "stdout",
     "output_type": "stream",
     "text": [
      "Found test info at '/root/fiftyone/coco-2017/raw/image_info_test2017.json'\n"
     ]
    },
    {
     "name": "stderr",
     "output_type": "stream",
     "text": [
      "[INFO] Found test info at '/root/fiftyone/coco-2017/raw/image_info_test2017.json'\n"
     ]
    },
    {
     "name": "stdout",
     "output_type": "stream",
     "text": [
      "Sufficient images already downloaded\n"
     ]
    },
    {
     "name": "stderr",
     "output_type": "stream",
     "text": [
      "[INFO] Sufficient images already downloaded\n"
     ]
    },
    {
     "name": "stdout",
     "output_type": "stream",
     "text": [
      "Existing download of split 'test' is sufficient\n"
     ]
    },
    {
     "name": "stderr",
     "output_type": "stream",
     "text": [
      "[INFO] Existing download of split 'test' is sufficient\n"
     ]
    },
    {
     "name": "stdout",
     "output_type": "stream",
     "text": [
      "Loading existing dataset 'coco-2017-train-validation-test-20'. To reload from disk, either delete the existing dataset or provide a custom `dataset_name` to use\n"
     ]
    },
    {
     "name": "stderr",
     "output_type": "stream",
     "text": [
      "[INFO] Loading existing dataset 'coco-2017-train-validation-test-20'. To reload from disk, either delete the existing dataset or provide a custom `dataset_name` to use\n",
      "[INFO] Loaded 60 samples in total\n",
      "[INFO] Filtering dataset to 8 target classes\n",
      "[INFO] View retains 40 samples after label filtering\n",
      "[INFO] Creating train/val/test tags (seed=42)…\n",
      "[INFO] Clearing existing tag 'train' from 39 samples.\n",
      "[INFO] Clearing existing tag 'val' from 3 samples.\n",
      "[INFO] Clearing existing tag 'test' from 18 samples.\n",
      "[INFO] Stratifying across 8 classes: ['bicycle', 'bus', 'car', 'cat', 'cell phone', 'dog', 'laptop', 'person']\n",
      "[INFO] Distributing 20 remaining samples randomly...\n",
      "[INFO] Final unique split ID counts - Train: 39, Val: 3, Test: 18\n",
      "[INFO] Exporting train split → /workspaces/photo_tag_pipeline/src/data/coco/train (COCO) …\n"
     ]
    },
    {
     "name": "stdout",
     "output_type": "stream",
     "text": [
      " 100% |███████████████████| 39/39 [882.5ms elapsed, 0s remaining, 44.2 samples/s]      \n"
     ]
    },
    {
     "name": "stderr",
     "output_type": "stream",
     "text": [
      "[INFO]  100% |███████████████████| 39/39 [882.5ms elapsed, 0s remaining, 44.2 samples/s]      \n",
      "[INFO] Exporting val split → /workspaces/photo_tag_pipeline/src/data/coco/val (COCO) …\n"
     ]
    },
    {
     "name": "stdout",
     "output_type": "stream",
     "text": [
      " 100% |█████████████████████| 3/3 [73.1ms elapsed, 0s remaining, 41.1 samples/s] \n"
     ]
    },
    {
     "name": "stderr",
     "output_type": "stream",
     "text": [
      "[INFO]  100% |█████████████████████| 3/3 [73.1ms elapsed, 0s remaining, 41.1 samples/s] \n",
      "[INFO] Exporting test split → /workspaces/photo_tag_pipeline/src/data/coco/test (COCO) …\n"
     ]
    },
    {
     "name": "stdout",
     "output_type": "stream",
     "text": [
      " 100% |███████████████████| 18/18 [421.2ms elapsed, 0s remaining, 42.7 samples/s]      \n"
     ]
    },
    {
     "name": "stderr",
     "output_type": "stream",
     "text": [
      "[INFO]  100% |███████████████████| 18/18 [421.2ms elapsed, 0s remaining, 42.7 samples/s]      \n",
      "[INFO] Metadata saved → /workspaces/photo_tag_pipeline/src/data/coco/dataset_metadata.json\n"
     ]
    },
    {
     "name": "stdout",
     "output_type": "stream",
     "text": [
      "Dataset split sizes:\n",
      "- train: 39 samples\n",
      "- val: 3 samples\n",
      "- test: 18 samples\n",
      "\n",
      "Total samples in the dataset: 60\n",
      "Dataset name in FiftyOne: coco-2017-train-validation-test-20\n"
     ]
    }
   ],
   "source": [
    "import fiftyone as fo\n",
    "import importlib\n",
    "import src.config\n",
    "import src.data.loader\n",
    "\n",
    "importlib.reload(src.config)\n",
    "importlib.reload(src.data.loader)\n",
    "from src.data.loader import prepare_dataset\n",
    "from src.config import DEFAULT_CLASSES\n",
    "\n",
    "# Prepare dataset will download, filter, split, export, and write metadata\n",
    "views = prepare_dataset(classes=DEFAULT_CLASSES, max_samples=20, seed=42)\n",
    "\n",
    "# Print the number of samples in each split\n",
    "print(\"Dataset split sizes:\")\n",
    "for split_name, view in views.items():\n",
    "    print(f\"- {split_name}: {len(view)} samples\")\n",
    "\n",
    "# The views dictionary contains 'train', 'val', 'test' views.\n",
    "# The underlying dataset can be accessed from any view, e.g., views['train']._dataset\n",
    "# This dataset object contains all samples and the tags for splits.\n",
    "dataset = views[\"train\"]._dataset\n",
    "print(f\"\\nTotal samples in the dataset: {len(dataset)}\")\n",
    "print(f\"Dataset name in FiftyOne: {dataset.name}\")"
   ]
  },
  {
   "cell_type": "code",
   "execution_count": 23,
   "id": "e3eb62d5",
   "metadata": {},
   "outputs": [
    {
     "data": {
      "text/html": [
       "\n",
       "        <iframe\n",
       "            width=\"100%\"\n",
       "            height=\"800\"\n",
       "            src=\"http://0.0.0.0:5151/?notebook=True&subscription=247510c2-7ea2-4e15-ac24-06eb1431d9fa\"\n",
       "            frameborder=\"0\"\n",
       "            allowfullscreen\n",
       "            \n",
       "        ></iframe>\n",
       "        "
      ],
      "text/plain": [
       "<IPython.lib.display.IFrame at 0x7f0df0337a50>"
      ]
     },
     "metadata": {},
     "output_type": "display_data"
    }
   ],
   "source": [
    "# Launch the FiftyOne App to explore the entire dataset.\n",
    "session = fo.launch_app(dataset)\n",
    "# pass a specific view:\n",
    "# session = fo.launch_app(views['train'])"
   ]
  },
  {
   "cell_type": "code",
   "execution_count": 24,
   "id": "579fd047",
   "metadata": {
    "tags": [
     "remove"
    ]
   },
   "outputs": [
    {
     "name": "stdout",
     "output_type": "stream",
     "text": [
      "Successfully loaded /workspaces/photo_tag_pipeline/src/data/coco/train/labels.json\n",
      "\n",
      "COCO Dataset Analysis (from /workspaces/photo_tag_pipeline/src/data/coco/train/labels.json)\n",
      "===========================\n",
      "Dataset info: 2017/09/01\n",
      "Number of categories: 40\n",
      "Categories: ['backpack', 'baseball bat', 'baseball glove', 'bed', 'bench', 'bicycle', 'boat', 'bus', 'car', 'cell phone', 'chair', 'clock', 'couch', 'cup', 'dining table', 'dog', 'elephant', 'frisbee', 'handbag', 'horse', 'keyboard', 'kite', 'laptop', 'microwave', 'mouse', 'person', 'potted plant', 'remote', 'sandwich', 'sheep', 'skateboard', 'skis', 'snowboard', 'sports ball', 'tennis racket', 'tie', 'traffic light', 'truck', 'tv', 'umbrella']\n",
      "\n",
      "Valid Images Analysis\n",
      "===========================\n",
      "Number of valid images with filename: 39\n",
      "Sample of valid images:\n",
      "ID: 1, Filename: 000000295537.jpg, Size: 640x480\n",
      "ID: 2, Filename: 000000519685.jpg, Size: 500x333\n",
      "ID: 3, Filename: 000000020849.jpg, Size: 640x541\n",
      "ID: 4, Filename: 000000277950.jpg, Size: 500x374\n",
      "ID: 5, Filename: 000000046149.jpg, Size: 640x480\n",
      "\n",
      "Image Dimensions Statistics:\n",
      "Height - Min: 332, Max: 640, Avg: 472.4\n",
      "Width  - Min: 333, Max: 640, Avg: 594.1\n",
      "\n",
      "Annotations Analysis\n",
      "===========================\n",
      "Number of annotations: 288\n",
      "\n",
      "Supercategory distribution:\n",
      "person: 115 annotations (39.9%)\n",
      "vehicle: 42 annotations (14.6%)\n",
      "accessory: 33 annotations (11.5%)\n",
      "furniture: 31 annotations (10.8%)\n",
      "animal: 28 annotations (9.7%)\n",
      "electronic: 16 annotations (5.6%)\n",
      "sports: 14 annotations (4.9%)\n",
      "outdoor: 5 annotations (1.7%)\n",
      "appliance: 1 annotations (0.3%)\n",
      "indoor: 1 annotations (0.3%)\n",
      "kitchen: 1 annotations (0.3%)\n",
      "food: 1 annotations (0.3%)\n"
     ]
    },
    {
     "data": {
      "image/png": "[encoded data removed]",
      "text/plain": [
       "<Figure size 1000x600 with 1 Axes>"
      ]
     },
     "metadata": {},
     "output_type": "display_data"
    }
   ],
   "source": [
    "import json\n",
    "from collections import Counter\n",
    "import matplotlib.pyplot as plt\n",
    "import importlib\n",
    "import src.config\n",
    "\n",
    "importlib.reload(src.config)\n",
    "\n",
    "# Define the path to the training annotations file\n",
    "train_ann_file_path = src.config.DATASET_ROOT / \"train\" / \"labels.json\"\n",
    "\n",
    "# Load COCO data from the training split's exported labels.json\n",
    "coco_data = {}  # Initialize to empty dict\n",
    "\n",
    "with open(train_ann_file_path, \"r\") as f:\n",
    "    coco_data = json.load(f)\n",
    "print(f\"Successfully loaded {train_ann_file_path}\")\n",
    "\n",
    "# Basic dataset information\n",
    "print(f\"\\nCOCO Dataset Analysis (from {train_ann_file_path})\")\n",
    "print(f\"===========================\")\n",
    "# Check if coco_data was loaded successfully before trying to access its keys\n",
    "if coco_data:\n",
    "    print(\n",
    "        f\"Dataset info: {coco_data.get('info', {}).get('date_created', 'Not specified')}\"\n",
    "    )\n",
    "    print(f\"Number of categories: {len(coco_data.get('categories', []))}\")\n",
    "    print(f\"Categories: {[cat['name'] for cat in coco_data.get('categories', [])]}\")\n",
    "\n",
    "    # Get valid images (with id and file_name)\n",
    "    valid_images = []\n",
    "    for img in coco_data.get(\"images\", []):\n",
    "        if \"file_name\" in img and \"id\" in img:\n",
    "            valid_images.append(\n",
    "                (img[\"id\"], img[\"file_name\"], img.get(\"height\"), img.get(\"width\"))\n",
    "            )\n",
    "\n",
    "    print(f\"\\nValid Images Analysis\")\n",
    "    print(f\"===========================\")\n",
    "    print(f\"Number of valid images with filename: {len(valid_images)}\")\n",
    "    if valid_images:\n",
    "        print(\"Sample of valid images:\")\n",
    "        for i, (img_id, filename, height, width) in enumerate(valid_images[:5]):\n",
    "            print(f\"ID: {img_id}, Filename: {filename}, Size: {width}x{height}\")\n",
    "\n",
    "    # Analyze image dimensions if available\n",
    "    heights = [\n",
    "        h\n",
    "        for _, _, h, _ in valid_images\n",
    "        if h is not None and isinstance(h, (int, float))\n",
    "    ]\n",
    "    widths = [\n",
    "        w\n",
    "        for _, _, _, w in valid_images\n",
    "        if w is not None and isinstance(w, (int, float))\n",
    "    ]\n",
    "\n",
    "    if heights and widths:\n",
    "        print(f\"\\nImage Dimensions Statistics:\")\n",
    "        print(\n",
    "            f\"Height - Min: {min(heights)}, Max: {max(heights)}, Avg: {sum(heights)/len(heights):.1f}\"\n",
    "        )\n",
    "        print(\n",
    "            f\"Width  - Min: {min(widths)}, Max: {max(widths)}, Avg: {sum(widths)/len(widths):.1f}\"\n",
    "        )\n",
    "\n",
    "    # Count supercategories in annotations\n",
    "    print(f\"\\nAnnotations Analysis\")\n",
    "    print(f\"===========================\")\n",
    "    if \"annotations\" in coco_data:\n",
    "        annotations = coco_data[\"annotations\"]\n",
    "        print(f\"Number of annotations: {len(annotations)}\")\n",
    "\n",
    "        # Count by supercategory\n",
    "        supercategories = [\n",
    "            ann.get(\"supercategory\") for ann in annotations if \"supercategory\" in ann\n",
    "        ]\n",
    "        if supercategories:  # Check if list is not empty\n",
    "            supercategory_counts = Counter(supercategories)\n",
    "\n",
    "            print(\"\\nSupercategory distribution:\")\n",
    "            for cat, count in supercategory_counts.most_common():\n",
    "                print(\n",
    "                    f\"{cat}: {count} annotations ({count/len(supercategories)*100:.1f}%)\"\n",
    "                )\n",
    "\n",
    "            if supercategory_counts:\n",
    "                # Plot supercategory distribution\n",
    "                plt.figure(figsize=(10, 6))\n",
    "                cats, counts = zip(*supercategory_counts.most_common())\n",
    "                plt.bar(cats, counts)\n",
    "                plt.xlabel(\"Supercategories\")\n",
    "                # Only plot horizontal line if valid_images is not empty\n",
    "                if valid_images:\n",
    "                    plt.axhline(\n",
    "                        y=len(valid_images),\n",
    "                        color=\"r\",\n",
    "                        linestyle=\"--\",\n",
    "                        label=f\"Number of images: {len(valid_images)}\",\n",
    "                    )\n",
    "                    plt.legend()\n",
    "                plt.ylabel(\"Number of Annotations\")\n",
    "                plt.title(\"Distribution of Supercategories in Annotations\")\n",
    "                plt.xticks(rotation=45, ha=\"right\")\n",
    "                plt.tight_layout()\n",
    "                plt.show()\n",
    "        else:\n",
    "            print(\"No supercategory information found in annotations.\")\n",
    "else:\n",
    "    print(\"Skipping COCO data analysis as coco_data could not be loaded.\")"
   ]
  },
  {
   "cell_type": "code",
   "execution_count": 25,
   "id": "1afa0ed3",
   "metadata": {
    "tags": [
     "remove"
    ]
   },
   "outputs": [
    {
     "name": "stdout",
     "output_type": "stream",
     "text": [
      "[NbConvertApp] Converting notebook 01_dataset_eda.ipynb to html\n",
      "[NbConvertApp] Writing 277663 bytes to ../assets/01_dataset_eda_export.html\n"
     ]
    },
    {
     "data": {
      "text/html": [
       "<div style=padding:10px;'><h3>Export complete!</h3><p>Notebook <b>01_dataset_eda.ipynb</b> has been exported to HTML.</p></div>"
      ],
      "text/plain": [
       "<IPython.core.display.HTML object>"
      ]
     },
     "metadata": {},
     "output_type": "display_data"
    }
   ],
   "source": [
    "import os\n",
    "from IPython.display import HTML\n",
    "from IPython import get_ipython\n",
    "\n",
    "# Get current notebook name\n",
    "try:\n",
    "    # Try to get the notebook name using IPython's special variable\n",
    "    notebook_path = (\n",
    "        get_ipython().kernel.shell.user_ns[\"__vsc_ipynb_file__\"]\n",
    "        if \"__vsc_ipynb_file__\" in get_ipython().kernel.shell.user_ns\n",
    "        else None\n",
    "    )\n",
    "    if not notebook_path:\n",
    "        notebook_path = get_ipython().kernel.shell.user_ns.get(\n",
    "            \"__notebook_source__\", \"\"\n",
    "        )\n",
    "    notebook_name = os.path.basename(notebook_path) if notebook_path else \"\"\n",
    "except:\n",
    "    notebook_name = \"\"\n",
    "\n",
    "# Check if the notebook name was successfully determined\n",
    "if notebook_name == \"\":\n",
    "    # Fallback method if automatic detection fails\n",
    "    notebook_name = input(\"Enter notebook filename (with .ipynb extension): \")\n",
    "\n",
    "# Use nbconvert to export the notebook without input cells tagged with \"remove\"\n",
    "# Ensure the assets directory exists\n",
    "assets_dir = \"../assets\"\n",
    "os.makedirs(assets_dir, exist_ok=True)\n",
    "output_html = os.path.join(\n",
    "    assets_dir, os.path.splitext(os.path.basename(notebook_name))[0] + \"_export.html\"\n",
    ")\n",
    "!jupyter nbconvert --to html --TagRemovePreprocessor.remove_cell_tags='{\"remove\"}' \"{notebook_name}\" --output \"{output_html}\"\n",
    "\n",
    "# Display a success message\n",
    "display(\n",
    "    HTML(\n",
    "        f\"<div style=padding:10px;'>\"\n",
    "        f\"<h3>Export complete!</h3>\"\n",
    "        f\"<p>Notebook <b>{notebook_name}</b> has been exported to HTML.</p>\"\n",
    "        f\"</div>\"\n",
    "    )\n",
    ")"
   ]
  }
 ],
 "metadata": {
  "kernelspec": {
   "display_name": "Python 3",
   "language": "python",
   "name": "python3"
  },
  "language_info": {
   "codemirror_mode": {
    "name": "ipython",
    "version": 3
   },
   "file_extension": ".py",
   "mimetype": "text/x-python",
   "name": "python",
   "nbconvert_exporter": "python",
   "pygments_lexer": "ipython3",
   "version": "3.11.13"
  }
 },
 "nbformat": 4,
 "nbformat_minor": 5
}
